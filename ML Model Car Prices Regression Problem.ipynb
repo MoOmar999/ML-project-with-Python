{
 "cells": [
  {
   "cell_type": "code",
   "execution_count": 2,
   "metadata": {},
   "outputs": [],
   "source": [
    "#Import the library for bulid Machine Learning Model\n",
    "import pandas as pd \n",
    "import numpy as np\n",
    "from sklearn.impute import SimpleImputer # using for fill the missing value\n",
    "from sklearn.preprocessing import OrdinalEncoder\n",
    "import sys\n",
    "from sklearn.model_selection import train_test_split\n",
    "from sklearn.model_selection import cross_val_score\n",
    "from sklearn.tree import DecisionTreeClassifier\n",
    "from sklearn.metrics import mean_squared_error\n",
    "from sklearn.metrics import mean_absolute_error\n",
    "from sklearn.ensemble import GradientBoostingRegressor\n",
    "from sklearn.svm import SVR\n",
    "from sklearn.linear_model import LinearRegression\n",
    "from sklearn.tree import DecisionTreeRegressor\n",
    "from sklearn.linear_model import BayesianRidge\n",
    "from sklearn.feature_selection import SelectKBest,chi2,r_regression\n",
    "from sklearn.ensemble import RandomForestRegressor\n",
    "from sklearn.model_selection import GridSearchCV\n",
    "from sklearn.metrics import r2_score"
   ]
  },
  {
   "cell_type": "code",
   "execution_count": 3,
   "metadata": {},
   "outputs": [],
   "source": [
    "# read excel file using read method\n",
    "Data = pd.read_excel(\"C:/Users/nxt-1/Desktop/Dataset/Car_Sales.xlsx\")"
   ]
  },
  {
   "cell_type": "code",
   "execution_count": 4,
   "metadata": {},
   "outputs": [],
   "source": [
    "Data_2 = pd.read_excel(\"C:/Users/nxt-1/Desktop/Dataset/Car_Sales.xlsx\")"
   ]
  },
  {
   "cell_type": "code",
   "execution_count": 5,
   "metadata": {},
   "outputs": [
    {
     "data": {
      "text/html": [
       "<div>\n",
       "<style scoped>\n",
       "    .dataframe tbody tr th:only-of-type {\n",
       "        vertical-align: middle;\n",
       "    }\n",
       "\n",
       "    .dataframe tbody tr th {\n",
       "        vertical-align: top;\n",
       "    }\n",
       "\n",
       "    .dataframe thead th {\n",
       "        text-align: right;\n",
       "    }\n",
       "</style>\n",
       "<table border=\"1\" class=\"dataframe\">\n",
       "  <thead>\n",
       "    <tr style=\"text-align: right;\">\n",
       "      <th></th>\n",
       "      <th>car</th>\n",
       "      <th>price</th>\n",
       "      <th>body</th>\n",
       "      <th>mileage</th>\n",
       "      <th>engV</th>\n",
       "      <th>engType</th>\n",
       "      <th>registration</th>\n",
       "      <th>year</th>\n",
       "      <th>model</th>\n",
       "      <th>drive</th>\n",
       "    </tr>\n",
       "  </thead>\n",
       "  <tbody>\n",
       "    <tr>\n",
       "      <th>0</th>\n",
       "      <td>Ford</td>\n",
       "      <td>15500.0</td>\n",
       "      <td>crossover</td>\n",
       "      <td>68</td>\n",
       "      <td>2.5</td>\n",
       "      <td>Gas</td>\n",
       "      <td>yes</td>\n",
       "      <td>2010</td>\n",
       "      <td>Kuga</td>\n",
       "      <td>full</td>\n",
       "    </tr>\n",
       "    <tr>\n",
       "      <th>1</th>\n",
       "      <td>Mercedes-Benz</td>\n",
       "      <td>20500.0</td>\n",
       "      <td>sedan</td>\n",
       "      <td>173</td>\n",
       "      <td>1.8</td>\n",
       "      <td>Gas</td>\n",
       "      <td>yes</td>\n",
       "      <td>2011</td>\n",
       "      <td>E-Class</td>\n",
       "      <td>rear</td>\n",
       "    </tr>\n",
       "    <tr>\n",
       "      <th>2</th>\n",
       "      <td>Mercedes-Benz</td>\n",
       "      <td>35000.0</td>\n",
       "      <td>other</td>\n",
       "      <td>135</td>\n",
       "      <td>5.5</td>\n",
       "      <td>Petrol</td>\n",
       "      <td>yes</td>\n",
       "      <td>2008</td>\n",
       "      <td>CL 550</td>\n",
       "      <td>rear</td>\n",
       "    </tr>\n",
       "    <tr>\n",
       "      <th>3</th>\n",
       "      <td>Mercedes-Benz</td>\n",
       "      <td>17800.0</td>\n",
       "      <td>van</td>\n",
       "      <td>162</td>\n",
       "      <td>1.8</td>\n",
       "      <td>Diesel</td>\n",
       "      <td>yes</td>\n",
       "      <td>2012</td>\n",
       "      <td>B 180</td>\n",
       "      <td>front</td>\n",
       "    </tr>\n",
       "    <tr>\n",
       "      <th>4</th>\n",
       "      <td>Mercedes-Benz</td>\n",
       "      <td>33000.0</td>\n",
       "      <td>vagon</td>\n",
       "      <td>91</td>\n",
       "      <td>NaN</td>\n",
       "      <td>Other</td>\n",
       "      <td>yes</td>\n",
       "      <td>2013</td>\n",
       "      <td>E-Class</td>\n",
       "      <td>NaN</td>\n",
       "    </tr>\n",
       "  </tbody>\n",
       "</table>\n",
       "</div>"
      ],
      "text/plain": [
       "             car    price       body  mileage  engV engType registration  \\\n",
       "0           Ford  15500.0  crossover       68   2.5     Gas          yes   \n",
       "1  Mercedes-Benz  20500.0      sedan      173   1.8     Gas          yes   \n",
       "2  Mercedes-Benz  35000.0      other      135   5.5  Petrol          yes   \n",
       "3  Mercedes-Benz  17800.0        van      162   1.8  Diesel          yes   \n",
       "4  Mercedes-Benz  33000.0      vagon       91   NaN   Other          yes   \n",
       "\n",
       "   year    model  drive  \n",
       "0  2010     Kuga   full  \n",
       "1  2011  E-Class   rear  \n",
       "2  2008   CL 550   rear  \n",
       "3  2012    B 180  front  \n",
       "4  2013  E-Class    NaN  "
      ]
     },
     "execution_count": 5,
     "metadata": {},
     "output_type": "execute_result"
    }
   ],
   "source": [
    "# display the first 5 row of Data\n",
    "Data.head()"
   ]
  },
  {
   "cell_type": "code",
   "execution_count": 6,
   "metadata": {},
   "outputs": [
    {
     "data": {
      "text/plain": [
       "car               0\n",
       "price             0\n",
       "body              0\n",
       "mileage           0\n",
       "engV            434\n",
       "engType           0\n",
       "registration      0\n",
       "year              0\n",
       "model             0\n",
       "drive           511\n",
       "dtype: int64"
      ]
     },
     "execution_count": 6,
     "metadata": {},
     "output_type": "execute_result"
    }
   ],
   "source": [
    "# show the sum missing value for each var\n",
    "Data.isnull().sum()"
   ]
  },
  {
   "cell_type": "code",
   "execution_count": 7,
   "metadata": {},
   "outputs": [
    {
     "data": {
      "text/plain": [
       "(9576, 10)"
      ]
     },
     "execution_count": 7,
     "metadata": {},
     "output_type": "execute_result"
    }
   ],
   "source": [
    "# show shape of data (how many rows and columns)\n",
    "Data.shape"
   ]
  },
  {
   "cell_type": "code",
   "execution_count": 9,
   "metadata": {},
   "outputs": [
    {
     "data": {
      "text/plain": [
       "<AxesSubplot: title={'center': 'car for all value'}>"
      ]
     },
     "execution_count": 9,
     "metadata": {},
     "output_type": "execute_result"
    },
    {
     "data": {
      "image/png": "[encoded data removed]",
      "text/plain": [
       "<Figure size 432x288 with 1 Axes>"
      ]
     },
     "metadata": {
      "needs_background": "light"
     },
     "output_type": "display_data"
    }
   ],
   "source": [
    "# represent the var \"Body\" and showing each value\n",
    "car_v = Data[\"body\"].value_counts()\n",
    "(car_v/Data.shape[0]).plot(kind='bar',title=\"car for all value\")"
   ]
  },
  {
   "cell_type": "code",
   "execution_count": 10,
   "metadata": {},
   "outputs": [
    {
     "data": {
      "text/plain": [
       "car               87\n",
       "price           1353\n",
       "body               6\n",
       "mileage          442\n",
       "engV             117\n",
       "engType            4\n",
       "registration       2\n",
       "year              56\n",
       "model            863\n",
       "drive              3\n",
       "dtype: int64"
      ]
     },
     "execution_count": 10,
     "metadata": {},
     "output_type": "execute_result"
    }
   ],
   "source": [
    "# count unique values for each var\n",
    "Data.nunique()"
   ]
  },
  {
   "cell_type": "code",
   "execution_count": 17,
   "metadata": {},
   "outputs": [],
   "source": [
    "# convert the \"car\" var to int data type\n",
    "Data[\"car\"] = Data[\"car\"].astype(\"int64\")"
   ]
  },
  {
   "cell_type": "code",
   "execution_count": 18,
   "metadata": {},
   "outputs": [
    {
     "data": {
      "text/html": [
       "<div>\n",
       "<style scoped>\n",
       "    .dataframe tbody tr th:only-of-type {\n",
       "        vertical-align: middle;\n",
       "    }\n",
       "\n",
       "    .dataframe tbody tr th {\n",
       "        vertical-align: top;\n",
       "    }\n",
       "\n",
       "    .dataframe thead th {\n",
       "        text-align: right;\n",
       "    }\n",
       "</style>\n",
       "<table border=\"1\" class=\"dataframe\">\n",
       "  <thead>\n",
       "    <tr style=\"text-align: right;\">\n",
       "      <th></th>\n",
       "      <th>car</th>\n",
       "      <th>price</th>\n",
       "      <th>mileage</th>\n",
       "      <th>engV</th>\n",
       "      <th>year</th>\n",
       "    </tr>\n",
       "  </thead>\n",
       "  <tbody>\n",
       "    <tr>\n",
       "      <th>car</th>\n",
       "      <td>1.000000</td>\n",
       "      <td>-0.122926</td>\n",
       "      <td>-0.126934</td>\n",
       "      <td>-0.013826</td>\n",
       "      <td>0.075025</td>\n",
       "    </tr>\n",
       "    <tr>\n",
       "      <th>price</th>\n",
       "      <td>-0.122926</td>\n",
       "      <td>1.000000</td>\n",
       "      <td>-0.312415</td>\n",
       "      <td>0.049804</td>\n",
       "      <td>0.370379</td>\n",
       "    </tr>\n",
       "    <tr>\n",
       "      <th>mileage</th>\n",
       "      <td>-0.126934</td>\n",
       "      <td>-0.312415</td>\n",
       "      <td>1.000000</td>\n",
       "      <td>0.045642</td>\n",
       "      <td>-0.495599</td>\n",
       "    </tr>\n",
       "    <tr>\n",
       "      <th>engV</th>\n",
       "      <td>-0.013826</td>\n",
       "      <td>0.049804</td>\n",
       "      <td>0.045642</td>\n",
       "      <td>1.000000</td>\n",
       "      <td>-0.040742</td>\n",
       "    </tr>\n",
       "    <tr>\n",
       "      <th>year</th>\n",
       "      <td>0.075025</td>\n",
       "      <td>0.370379</td>\n",
       "      <td>-0.495599</td>\n",
       "      <td>-0.040742</td>\n",
       "      <td>1.000000</td>\n",
       "    </tr>\n",
       "  </tbody>\n",
       "</table>\n",
       "</div>"
      ],
      "text/plain": [
       "              car     price   mileage      engV      year\n",
       "car      1.000000 -0.122926 -0.126934 -0.013826  0.075025\n",
       "price   -0.122926  1.000000 -0.312415  0.049804  0.370379\n",
       "mileage -0.126934 -0.312415  1.000000  0.045642 -0.495599\n",
       "engV    -0.013826  0.049804  0.045642  1.000000 -0.040742\n",
       "year     0.075025  0.370379 -0.495599 -0.040742  1.000000"
      ]
     },
     "execution_count": 18,
     "metadata": {},
     "output_type": "execute_result"
    }
   ],
   "source": [
    "# this is import stpes. showing the corr between the var and know the pattern\n",
    "Data.corr()"
   ]
  },
  {
   "cell_type": "code",
   "execution_count": 19,
   "metadata": {},
   "outputs": [
    {
     "data": {
      "text/plain": [
       "front    5188\n",
       "full     2500\n",
       "rear     1377\n",
       "Name: drive, dtype: int64"
      ]
     },
     "execution_count": 19,
     "metadata": {},
     "output_type": "execute_result"
    }
   ],
   "source": [
    "# count value for \"car\" var\n",
    "Data[\"drive\"].value_counts()"
   ]
  },
  {
   "cell_type": "code",
   "execution_count": 20,
   "metadata": {},
   "outputs": [],
   "source": [
    "# because there are missing value at \"engV\" var so we apply fill_NaN method to fill null value withe mean\n",
    "Data[\"engV\"].fillna(Data[\"engV\"].mean(),inplace=True)"
   ]
  },
  {
   "cell_type": "code",
   "execution_count": 21,
   "metadata": {},
   "outputs": [],
   "source": [
    "# using SimpleImputer to fill nan value by using \"Most_Frequent\"\n",
    "SM = SimpleImputer(missing_values=np.nan,strategy=\"most_frequent\")\n",
    "Data[\"drive\"] = SM.fit_transform(Data['drive'].values.reshape(-1,1))[:,0]"
   ]
  },
  {
   "cell_type": "code",
   "execution_count": 22,
   "metadata": {},
   "outputs": [
    {
     "data": {
      "text/plain": [
       "array([ 4,  1,  2,  6,  3,  5,  0,  7,  9, 11, 12, 13, 14, 15, 17],\n",
       "      dtype=int64)"
      ]
     },
     "execution_count": 22,
     "metadata": {},
     "output_type": "execute_result"
    }
   ],
   "source": [
    "np.set_printoptions(threshold=sys.maxsize)\n",
    "np.array(Data[\"car\"].unique())"
   ]
  },
  {
   "cell_type": "code",
   "execution_count": 23,
   "metadata": {},
   "outputs": [],
   "source": [
    "# but the all the value multi array\n",
    "American = [\"Ford\",\"Chrysler\",\"Chevrolet\",\"Tesla\",\"Dodge\",\"Jeep\",\"Hummer\",\"Cadillac\",\"GMC\",\"Lincoln\",\"Mercury\",\"Fisker\",\"Buick\"]\n",
    "German =   [\"Mercedes-Benz\",\"BMW\",\"Volkswagen\",\"Audi\",\"Porsche\",\"Smart\",\"Other-Retro\",\"Barkas\",\"Wartburg\"]\n",
    "Japanese = [\"Nissan\",\"Honda\",\"Mitsubishi\",\"Toyota\",\"Mazda\",\"Lexus\",\"Infiniti\",\"Subaru\",\"Suzuki\",\"Acura\",\"Isuzu\",\"Daihatsu\"]\n",
    "French =   [\"Renault\",\"Peugeot\",\"Citroen\",\"Dacia\"]\n",
    "British =  [\"Land Rover\",\"Jaguar\",\"Bentley\",\"MINI\",\"Aston Martin\",\"Rover\",\"Rolls-Royce\",\"MG\"]\n",
    "Korea =    [\"Kia\",\"Hyundai\",\"Daewoo\",\"SsangYong\",\"Samsung\"]\n",
    "Czech =    [\"Skoda\"]\n",
    "Russian =  [\"Vaz\",\"GAZ\",\"UAZ\",\"Moskvich-AZLK\",\"Moskvich-Izh\",\"Aro\"]\n",
    "Italian =  [\"Alfa Romeo\",\"Fiat\",\"Maserati\",\"Lancia\",\"Ferrari\",\"Lamborghini\"]\n",
    "Chinese =  [\"Chery\",\"Great Wall\",\"Geely\",\"BYD\",\"FAW\",\"ZX\",\"Lifan\",\"Dadi\",\"JAC\",\"Hafei\",\"SMA\",\"Changan\",\"Huanghai\"]\n",
    "Swedish =  [\"Volvo\",\"Saab\"]\n",
    "Ukraine =  [\"ZAZ\",\"Groz\",\"Bogdan\"]\n",
    "Spanish =  [\"Seat\"]\n",
    "India =    [\"TATA\"]\n",
    "Iranian =  [\"Samand\"]"
   ]
  },
  {
   "cell_type": "code",
   "execution_count": 24,
   "metadata": {},
   "outputs": [],
   "source": [
    "# replace value\n",
    "Data[\"car\"] = Data[\"car\"].replace(American,\"American\")\n",
    "Data[\"car\"] = Data[\"car\"].replace(German,\"German\")\n",
    "Data[\"car\"] = Data[\"car\"].replace(Japanese,\"Japanese\")\n",
    "Data[\"car\"] = Data[\"car\"].replace(French,\"French\")\n",
    "Data[\"car\"] = Data[\"car\"].replace(British,\"British\")\n",
    "Data[\"car\"] = Data[\"car\"].replace(Korea,\"Korea\")\n",
    "Data[\"car\"] = Data[\"car\"].replace(Czech,\"Czech\")\n",
    "Data[\"car\"] = Data[\"car\"].replace(Russian,\"Russian\")\n",
    "Data[\"car\"] = Data[\"car\"].replace(Italian,\"Italian\")\n",
    "Data[\"car\"] = Data[\"car\"].replace(Chinese,\"Chinese\")\n",
    "Data[\"car\"] = Data[\"car\"].replace(Swedish,\"Swedish\")\n",
    "Data[\"car\"] = Data[\"car\"].replace(Ukraine,\"Ukraine\")\n",
    "Data[\"car\"] = Data[\"car\"].replace(Spanish,\"Spanish\")\n",
    "Data[\"car\"] = Data[\"car\"].replace(India,\"India\")\n",
    "Data[\"car\"] = Data[\"car\"].replace(Spanish,\"Spanish\")\n",
    "Data[\"car\"] = Data[\"car\"].replace(Iranian,\"Iranian\")"
   ]
  },
  {
   "cell_type": "code",
   "execution_count": 25,
   "metadata": {},
   "outputs": [
    {
     "data": {
      "text/html": [
       "<div>\n",
       "<style scoped>\n",
       "    .dataframe tbody tr th:only-of-type {\n",
       "        vertical-align: middle;\n",
       "    }\n",
       "\n",
       "    .dataframe tbody tr th {\n",
       "        vertical-align: top;\n",
       "    }\n",
       "\n",
       "    .dataframe thead th {\n",
       "        text-align: right;\n",
       "    }\n",
       "</style>\n",
       "<table border=\"1\" class=\"dataframe\">\n",
       "  <thead>\n",
       "    <tr style=\"text-align: right;\">\n",
       "      <th></th>\n",
       "      <th>car</th>\n",
       "      <th>price</th>\n",
       "      <th>body</th>\n",
       "      <th>mileage</th>\n",
       "      <th>engV</th>\n",
       "      <th>engType</th>\n",
       "      <th>registration</th>\n",
       "      <th>year</th>\n",
       "      <th>model</th>\n",
       "      <th>drive</th>\n",
       "    </tr>\n",
       "  </thead>\n",
       "  <tbody>\n",
       "    <tr>\n",
       "      <th>0</th>\n",
       "      <td>4</td>\n",
       "      <td>15500.0</td>\n",
       "      <td>crossover</td>\n",
       "      <td>68</td>\n",
       "      <td>2.500000</td>\n",
       "      <td>Gas</td>\n",
       "      <td>yes</td>\n",
       "      <td>2010</td>\n",
       "      <td>Kuga</td>\n",
       "      <td>full</td>\n",
       "    </tr>\n",
       "    <tr>\n",
       "      <th>1</th>\n",
       "      <td>1</td>\n",
       "      <td>20500.0</td>\n",
       "      <td>sedan</td>\n",
       "      <td>173</td>\n",
       "      <td>1.800000</td>\n",
       "      <td>Gas</td>\n",
       "      <td>yes</td>\n",
       "      <td>2011</td>\n",
       "      <td>E-Class</td>\n",
       "      <td>rear</td>\n",
       "    </tr>\n",
       "    <tr>\n",
       "      <th>2</th>\n",
       "      <td>1</td>\n",
       "      <td>35000.0</td>\n",
       "      <td>other</td>\n",
       "      <td>135</td>\n",
       "      <td>5.500000</td>\n",
       "      <td>Petrol</td>\n",
       "      <td>yes</td>\n",
       "      <td>2008</td>\n",
       "      <td>CL 550</td>\n",
       "      <td>rear</td>\n",
       "    </tr>\n",
       "    <tr>\n",
       "      <th>3</th>\n",
       "      <td>1</td>\n",
       "      <td>17800.0</td>\n",
       "      <td>van</td>\n",
       "      <td>162</td>\n",
       "      <td>1.800000</td>\n",
       "      <td>Diesel</td>\n",
       "      <td>yes</td>\n",
       "      <td>2012</td>\n",
       "      <td>B 180</td>\n",
       "      <td>front</td>\n",
       "    </tr>\n",
       "    <tr>\n",
       "      <th>4</th>\n",
       "      <td>1</td>\n",
       "      <td>33000.0</td>\n",
       "      <td>vagon</td>\n",
       "      <td>91</td>\n",
       "      <td>2.646344</td>\n",
       "      <td>Other</td>\n",
       "      <td>yes</td>\n",
       "      <td>2013</td>\n",
       "      <td>E-Class</td>\n",
       "      <td>front</td>\n",
       "    </tr>\n",
       "    <tr>\n",
       "      <th>...</th>\n",
       "      <td>...</td>\n",
       "      <td>...</td>\n",
       "      <td>...</td>\n",
       "      <td>...</td>\n",
       "      <td>...</td>\n",
       "      <td>...</td>\n",
       "      <td>...</td>\n",
       "      <td>...</td>\n",
       "      <td>...</td>\n",
       "      <td>...</td>\n",
       "    </tr>\n",
       "    <tr>\n",
       "      <th>9571</th>\n",
       "      <td>5</td>\n",
       "      <td>14500.0</td>\n",
       "      <td>crossover</td>\n",
       "      <td>140</td>\n",
       "      <td>2.000000</td>\n",
       "      <td>Gas</td>\n",
       "      <td>yes</td>\n",
       "      <td>2011</td>\n",
       "      <td>Tucson</td>\n",
       "      <td>front</td>\n",
       "    </tr>\n",
       "    <tr>\n",
       "      <th>9572</th>\n",
       "      <td>1</td>\n",
       "      <td>2200.0</td>\n",
       "      <td>vagon</td>\n",
       "      <td>150</td>\n",
       "      <td>1.600000</td>\n",
       "      <td>Petrol</td>\n",
       "      <td>yes</td>\n",
       "      <td>1986</td>\n",
       "      <td>Passat B2</td>\n",
       "      <td>front</td>\n",
       "    </tr>\n",
       "    <tr>\n",
       "      <th>9573</th>\n",
       "      <td>1</td>\n",
       "      <td>18500.0</td>\n",
       "      <td>crossover</td>\n",
       "      <td>180</td>\n",
       "      <td>3.500000</td>\n",
       "      <td>Petrol</td>\n",
       "      <td>yes</td>\n",
       "      <td>2008</td>\n",
       "      <td>ML 350</td>\n",
       "      <td>full</td>\n",
       "    </tr>\n",
       "    <tr>\n",
       "      <th>9574</th>\n",
       "      <td>2</td>\n",
       "      <td>16999.0</td>\n",
       "      <td>sedan</td>\n",
       "      <td>150</td>\n",
       "      <td>3.500000</td>\n",
       "      <td>Gas</td>\n",
       "      <td>yes</td>\n",
       "      <td>2008</td>\n",
       "      <td>ES 350</td>\n",
       "      <td>front</td>\n",
       "    </tr>\n",
       "    <tr>\n",
       "      <th>9575</th>\n",
       "      <td>1</td>\n",
       "      <td>22500.0</td>\n",
       "      <td>other</td>\n",
       "      <td>71</td>\n",
       "      <td>3.600000</td>\n",
       "      <td>Petrol</td>\n",
       "      <td>yes</td>\n",
       "      <td>2007</td>\n",
       "      <td>Q7</td>\n",
       "      <td>full</td>\n",
       "    </tr>\n",
       "  </tbody>\n",
       "</table>\n",
       "<p>9576 rows × 10 columns</p>\n",
       "</div>"
      ],
      "text/plain": [
       "      car    price       body  mileage      engV engType registration  year  \\\n",
       "0       4  15500.0  crossover       68  2.500000     Gas          yes  2010   \n",
       "1       1  20500.0      sedan      173  1.800000     Gas          yes  2011   \n",
       "2       1  35000.0      other      135  5.500000  Petrol          yes  2008   \n",
       "3       1  17800.0        van      162  1.800000  Diesel          yes  2012   \n",
       "4       1  33000.0      vagon       91  2.646344   Other          yes  2013   \n",
       "...   ...      ...        ...      ...       ...     ...          ...   ...   \n",
       "9571    5  14500.0  crossover      140  2.000000     Gas          yes  2011   \n",
       "9572    1   2200.0      vagon      150  1.600000  Petrol          yes  1986   \n",
       "9573    1  18500.0  crossover      180  3.500000  Petrol          yes  2008   \n",
       "9574    2  16999.0      sedan      150  3.500000     Gas          yes  2008   \n",
       "9575    1  22500.0      other       71  3.600000  Petrol          yes  2007   \n",
       "\n",
       "          model  drive  \n",
       "0          Kuga   full  \n",
       "1       E-Class   rear  \n",
       "2        CL 550   rear  \n",
       "3         B 180  front  \n",
       "4       E-Class  front  \n",
       "...         ...    ...  \n",
       "9571     Tucson  front  \n",
       "9572  Passat B2  front  \n",
       "9573     ML 350   full  \n",
       "9574     ES 350  front  \n",
       "9575         Q7   full  \n",
       "\n",
       "[9576 rows x 10 columns]"
      ]
     },
     "execution_count": 25,
     "metadata": {},
     "output_type": "execute_result"
    }
   ],
   "source": [
    "Data"
   ]
  },
  {
   "cell_type": "code",
   "execution_count": 26,
   "metadata": {},
   "outputs": [
    {
     "data": {
      "text/plain": [
       "car               15\n",
       "price           1353\n",
       "body               6\n",
       "mileage          442\n",
       "engV             118\n",
       "engType            4\n",
       "registration       2\n",
       "year              56\n",
       "model            863\n",
       "drive              3\n",
       "dtype: int64"
      ]
     },
     "execution_count": 26,
     "metadata": {},
     "output_type": "execute_result"
    }
   ],
   "source": [
    "Data.nunique()"
   ]
  },
  {
   "cell_type": "code",
   "execution_count": 27,
   "metadata": {},
   "outputs": [
    {
     "data": {
      "text/html": [
       "<div>\n",
       "<style scoped>\n",
       "    .dataframe tbody tr th:only-of-type {\n",
       "        vertical-align: middle;\n",
       "    }\n",
       "\n",
       "    .dataframe tbody tr th {\n",
       "        vertical-align: top;\n",
       "    }\n",
       "\n",
       "    .dataframe thead th {\n",
       "        text-align: right;\n",
       "    }\n",
       "</style>\n",
       "<table border=\"1\" class=\"dataframe\">\n",
       "  <thead>\n",
       "    <tr style=\"text-align: right;\">\n",
       "      <th></th>\n",
       "      <th>price</th>\n",
       "      <th>mileage</th>\n",
       "      <th>engV</th>\n",
       "      <th>year</th>\n",
       "    </tr>\n",
       "    <tr>\n",
       "      <th>car</th>\n",
       "      <th></th>\n",
       "      <th></th>\n",
       "      <th></th>\n",
       "      <th></th>\n",
       "    </tr>\n",
       "  </thead>\n",
       "  <tbody>\n",
       "    <tr>\n",
       "      <th>1</th>\n",
       "      <td>6.650763e+07</td>\n",
       "      <td>530515</td>\n",
       "      <td>9311.646911</td>\n",
       "      <td>6339219</td>\n",
       "    </tr>\n",
       "    <tr>\n",
       "      <th>2</th>\n",
       "      <td>3.453899e+07</td>\n",
       "      <td>249756</td>\n",
       "      <td>5707.245732</td>\n",
       "      <td>4151832</td>\n",
       "    </tr>\n",
       "    <tr>\n",
       "      <th>3</th>\n",
       "      <td>1.206195e+07</td>\n",
       "      <td>19312</td>\n",
       "      <td>790.425377</td>\n",
       "      <td>430230</td>\n",
       "    </tr>\n",
       "    <tr>\n",
       "      <th>4</th>\n",
       "      <td>1.005966e+07</td>\n",
       "      <td>86326</td>\n",
       "      <td>1618.658184</td>\n",
       "      <td>1418919</td>\n",
       "    </tr>\n",
       "    <tr>\n",
       "      <th>5</th>\n",
       "      <td>8.728960e+06</td>\n",
       "      <td>91594</td>\n",
       "      <td>1819.307429</td>\n",
       "      <td>1733633</td>\n",
       "    </tr>\n",
       "    <tr>\n",
       "      <th>6</th>\n",
       "      <td>6.194260e+06</td>\n",
       "      <td>115661</td>\n",
       "      <td>1957.160543</td>\n",
       "      <td>1548373</td>\n",
       "    </tr>\n",
       "    <tr>\n",
       "      <th>7</th>\n",
       "      <td>3.938992e+06</td>\n",
       "      <td>47150</td>\n",
       "      <td>639.136132</td>\n",
       "      <td>739286</td>\n",
       "    </tr>\n",
       "    <tr>\n",
       "      <th>0</th>\n",
       "      <td>3.899369e+06</td>\n",
       "      <td>128663</td>\n",
       "      <td>2046.903774</td>\n",
       "      <td>1791145</td>\n",
       "    </tr>\n",
       "    <tr>\n",
       "      <th>9</th>\n",
       "      <td>1.451282e+06</td>\n",
       "      <td>22448</td>\n",
       "      <td>244.485377</td>\n",
       "      <td>274821</td>\n",
       "    </tr>\n",
       "    <tr>\n",
       "      <th>11</th>\n",
       "      <td>7.965882e+05</td>\n",
       "      <td>10856</td>\n",
       "      <td>238.004410</td>\n",
       "      <td>279411</td>\n",
       "    </tr>\n",
       "    <tr>\n",
       "      <th>12</th>\n",
       "      <td>6.017700e+05</td>\n",
       "      <td>5317</td>\n",
       "      <td>90.400000</td>\n",
       "      <td>66204</td>\n",
       "    </tr>\n",
       "    <tr>\n",
       "      <th>13</th>\n",
       "      <td>3.403639e+05</td>\n",
       "      <td>10451</td>\n",
       "      <td>353.250755</td>\n",
       "      <td>212672</td>\n",
       "    </tr>\n",
       "    <tr>\n",
       "      <th>14</th>\n",
       "      <td>3.281490e+05</td>\n",
       "      <td>5488</td>\n",
       "      <td>67.092689</td>\n",
       "      <td>78252</td>\n",
       "    </tr>\n",
       "    <tr>\n",
       "      <th>15</th>\n",
       "      <td>2.342734e+05</td>\n",
       "      <td>5934</td>\n",
       "      <td>451.876132</td>\n",
       "      <td>145234</td>\n",
       "    </tr>\n",
       "    <tr>\n",
       "      <th>17</th>\n",
       "      <td>2.239900e+04</td>\n",
       "      <td>275</td>\n",
       "      <td>5.800000</td>\n",
       "      <td>6028</td>\n",
       "    </tr>\n",
       "  </tbody>\n",
       "</table>\n",
       "</div>"
      ],
      "text/plain": [
       "            price  mileage         engV     year\n",
       "car                                             \n",
       "1    6.650763e+07   530515  9311.646911  6339219\n",
       "2    3.453899e+07   249756  5707.245732  4151832\n",
       "3    1.206195e+07    19312   790.425377   430230\n",
       "4    1.005966e+07    86326  1618.658184  1418919\n",
       "5    8.728960e+06    91594  1819.307429  1733633\n",
       "6    6.194260e+06   115661  1957.160543  1548373\n",
       "7    3.938992e+06    47150   639.136132   739286\n",
       "0    3.899369e+06   128663  2046.903774  1791145\n",
       "9    1.451282e+06    22448   244.485377   274821\n",
       "11   7.965882e+05    10856   238.004410   279411\n",
       "12   6.017700e+05     5317    90.400000    66204\n",
       "13   3.403639e+05    10451   353.250755   212672\n",
       "14   3.281490e+05     5488    67.092689    78252\n",
       "15   2.342734e+05     5934   451.876132   145234\n",
       "17   2.239900e+04      275     5.800000     6028"
      ]
     },
     "execution_count": 27,
     "metadata": {},
     "output_type": "execute_result"
    }
   ],
   "source": [
    "Data.groupby(Data[\"car\"]).sum().sort_values(by=\"price\",ascending=False)"
   ]
  },
  {
   "cell_type": "code",
   "execution_count": 28,
   "metadata": {},
   "outputs": [],
   "source": [
    "Data[\"car\"] = Data[\"car\"].replace(\"American\",4)\n",
    "Data[\"car\"] = Data[\"car\"].replace(\"German\",1)\n",
    "Data[\"car\"] = Data[\"car\"].replace(\"Japanese\",2)\n",
    "Data[\"car\"] = Data[\"car\"].replace(\"French\",6)\n",
    "Data[\"car\"] = Data[\"car\"].replace(\"British\",3)\n",
    "Data[\"car\"] = Data[\"car\"].replace(\"Korea\",5)\n",
    "Data[\"car\"] = Data[\"car\"].replace(\"Czech\",7)\n",
    "Data[\"car\"] = Data[\"car\"].replace(\"Russian\",15)\n",
    "Data[\"car\"] = Data[\"car\"].replace(\"Italian\",9)\n",
    "Data[\"car\"] = Data[\"car\"].replace(\"Chinese\",11)\n",
    "Data[\"car\"] = Data[\"car\"].replace(\"Swedish\",12)\n",
    "Data[\"car\"] = Data[\"car\"].replace(\"Ukraine\",13)\n",
    "Data[\"car\"] = Data[\"car\"].replace(\"Spanish\",14)\n",
    "Data[\"car\"] = Data[\"car\"].replace(\"India\",17)\n",
    "Data[\"car\"] = Data[\"car\"].replace(\"Spanish\",14)\n",
    "Data[\"car\"] = Data[\"car\"].replace(\"Opel\",0)\n",
    "Data[\"car\"] = Data[\"car\"].replace(\"VAZ\",0)\n",
    "Data[\"car\"] = Data[\"car\"].replace(\"�UAZ\",0)\n",
    "Data[\"car\"] = Data[\"car\"].replace(\"Iranian\",17)"
   ]
  },
  {
   "cell_type": "code",
   "execution_count": 29,
   "metadata": {},
   "outputs": [],
   "source": [
    "OE  = OrdinalEncoder()"
   ]
  },
  {
   "cell_type": "code",
   "execution_count": 30,
   "metadata": {},
   "outputs": [],
   "source": [
    "Data_Categorical = [\"model\",\"drive\",\"engType\",\"registration\",\"body\"]\n",
    "Data[Data_Categorical]  = Data[Data_Categorical].astype(\"str\")\n",
    "Data[\"car\"] = Data[\"car\"].astype(\"int64\")"
   ]
  },
  {
   "cell_type": "code",
   "execution_count": 31,
   "metadata": {},
   "outputs": [
    {
     "data": {
      "text/html": [
       "<style>#sk-container-id-1 {color: black;background-color: white;}#sk-container-id-1 pre{padding: 0;}#sk-container-id-1 div.sk-toggleable {background-color: white;}#sk-container-id-1 label.sk-toggleable__label {cursor: pointer;display: block;width: 100%;margin-bottom: 0;padding: 0.3em;box-sizing: border-box;text-align: center;}#sk-container-id-1 label.sk-toggleable__label-arrow:before {content: \"▸\";float: left;margin-right: 0.25em;color: #696969;}#sk-container-id-1 label.sk-toggleable__label-arrow:hover:before {color: black;}#sk-container-id-1 div.sk-estimator:hover label.sk-toggleable__label-arrow:before {color: black;}#sk-container-id-1 div.sk-toggleable__content {max-height: 0;max-width: 0;overflow: hidden;text-align: left;background-color: #f0f8ff;}#sk-container-id-1 div.sk-toggleable__content pre {margin: 0.2em;color: black;border-radius: 0.25em;background-color: #f0f8ff;}#sk-container-id-1 input.sk-toggleable__control:checked~div.sk-toggleable__content {max-height: 200px;max-width: 100%;overflow: auto;}#sk-container-id-1 input.sk-toggleable__control:checked~label.sk-toggleable__label-arrow:before {content: \"▾\";}#sk-container-id-1 div.sk-estimator input.sk-toggleable__control:checked~label.sk-toggleable__label {background-color: #d4ebff;}#sk-container-id-1 div.sk-label input.sk-toggleable__control:checked~label.sk-toggleable__label {background-color: #d4ebff;}#sk-container-id-1 input.sk-hidden--visually {border: 0;clip: rect(1px 1px 1px 1px);clip: rect(1px, 1px, 1px, 1px);height: 1px;margin: -1px;overflow: hidden;padding: 0;position: absolute;width: 1px;}#sk-container-id-1 div.sk-estimator {font-family: monospace;background-color: #f0f8ff;border: 1px dotted black;border-radius: 0.25em;box-sizing: border-box;margin-bottom: 0.5em;}#sk-container-id-1 div.sk-estimator:hover {background-color: #d4ebff;}#sk-container-id-1 div.sk-parallel-item::after {content: \"\";width: 100%;border-bottom: 1px solid gray;flex-grow: 1;}#sk-container-id-1 div.sk-label:hover label.sk-toggleable__label {background-color: #d4ebff;}#sk-container-id-1 div.sk-serial::before {content: \"\";position: absolute;border-left: 1px solid gray;box-sizing: border-box;top: 0;bottom: 0;left: 50%;z-index: 0;}#sk-container-id-1 div.sk-serial {display: flex;flex-direction: column;align-items: center;background-color: white;padding-right: 0.2em;padding-left: 0.2em;position: relative;}#sk-container-id-1 div.sk-item {position: relative;z-index: 1;}#sk-container-id-1 div.sk-parallel {display: flex;align-items: stretch;justify-content: center;background-color: white;position: relative;}#sk-container-id-1 div.sk-item::before, #sk-container-id-1 div.sk-parallel-item::before {content: \"\";position: absolute;border-left: 1px solid gray;box-sizing: border-box;top: 0;bottom: 0;left: 50%;z-index: -1;}#sk-container-id-1 div.sk-parallel-item {display: flex;flex-direction: column;z-index: 1;position: relative;background-color: white;}#sk-container-id-1 div.sk-parallel-item:first-child::after {align-self: flex-end;width: 50%;}#sk-container-id-1 div.sk-parallel-item:last-child::after {align-self: flex-start;width: 50%;}#sk-container-id-1 div.sk-parallel-item:only-child::after {width: 0;}#sk-container-id-1 div.sk-dashed-wrapped {border: 1px dashed gray;margin: 0 0.4em 0.5em 0.4em;box-sizing: border-box;padding-bottom: 0.4em;background-color: white;}#sk-container-id-1 div.sk-label label {font-family: monospace;font-weight: bold;display: inline-block;line-height: 1.2em;}#sk-container-id-1 div.sk-label-container {text-align: center;}#sk-container-id-1 div.sk-container {/* jupyter's `normalize.less` sets `[hidden] { display: none; }` but bootstrap.min.css set `[hidden] { display: none !important; }` so we also need the `!important` here to be able to override the default hidden behavior on the sphinx rendered scikit-learn.org. See: https://github.com/scikit-learn/scikit-learn/issues/21755 */display: inline-block !important;position: relative;}#sk-container-id-1 div.sk-text-repr-fallback {display: none;}</style><div id=\"sk-container-id-1\" class=\"sk-top-container\"><div class=\"sk-text-repr-fallback\"><pre>OrdinalEncoder()</pre><b>In a Jupyter environment, please rerun this cell to show the HTML representation or trust the notebook. <br />On GitHub, the HTML representation is unable to render, please try loading this page with nbviewer.org.</b></div><div class=\"sk-container\" hidden><div class=\"sk-item\"><div class=\"sk-estimator sk-toggleable\"><input class=\"sk-toggleable__control sk-hidden--visually\" id=\"sk-estimator-id-1\" type=\"checkbox\" checked><label for=\"sk-estimator-id-1\" class=\"sk-toggleable__label sk-toggleable__label-arrow\">OrdinalEncoder</label><div class=\"sk-toggleable__content\"><pre>OrdinalEncoder()</pre></div></div></div></div></div>"
      ],
      "text/plain": [
       "OrdinalEncoder()"
      ]
     },
     "execution_count": 31,
     "metadata": {},
     "output_type": "execute_result"
    }
   ],
   "source": [
    "OE.fit(Data[Data_Categorical])"
   ]
  },
  {
   "cell_type": "code",
   "execution_count": 32,
   "metadata": {},
   "outputs": [],
   "source": [
    "Data[Data_Categorical] = OE.transform(Data[Data_Categorical])"
   ]
  },
  {
   "cell_type": "code",
   "execution_count": 33,
   "metadata": {},
   "outputs": [
    {
     "data": {
      "text/html": [
       "<div>\n",
       "<style scoped>\n",
       "    .dataframe tbody tr th:only-of-type {\n",
       "        vertical-align: middle;\n",
       "    }\n",
       "\n",
       "    .dataframe tbody tr th {\n",
       "        vertical-align: top;\n",
       "    }\n",
       "\n",
       "    .dataframe thead th {\n",
       "        text-align: right;\n",
       "    }\n",
       "</style>\n",
       "<table border=\"1\" class=\"dataframe\">\n",
       "  <thead>\n",
       "    <tr style=\"text-align: right;\">\n",
       "      <th></th>\n",
       "      <th>car</th>\n",
       "      <th>price</th>\n",
       "      <th>body</th>\n",
       "      <th>mileage</th>\n",
       "      <th>engV</th>\n",
       "      <th>engType</th>\n",
       "      <th>registration</th>\n",
       "      <th>year</th>\n",
       "      <th>model</th>\n",
       "      <th>drive</th>\n",
       "    </tr>\n",
       "  </thead>\n",
       "  <tbody>\n",
       "    <tr>\n",
       "      <th>car</th>\n",
       "      <td>1.000000</td>\n",
       "      <td>-0.122926</td>\n",
       "      <td>0.027212</td>\n",
       "      <td>-0.126934</td>\n",
       "      <td>-0.013826</td>\n",
       "      <td>0.031979</td>\n",
       "      <td>0.096148</td>\n",
       "      <td>0.075025</td>\n",
       "      <td>0.052144</td>\n",
       "      <td>-0.270942</td>\n",
       "    </tr>\n",
       "    <tr>\n",
       "      <th>price</th>\n",
       "      <td>-0.122926</td>\n",
       "      <td>1.000000</td>\n",
       "      <td>-0.237067</td>\n",
       "      <td>-0.312415</td>\n",
       "      <td>0.049804</td>\n",
       "      <td>-0.008369</td>\n",
       "      <td>0.120849</td>\n",
       "      <td>0.370379</td>\n",
       "      <td>0.135268</td>\n",
       "      <td>0.211071</td>\n",
       "    </tr>\n",
       "    <tr>\n",
       "      <th>body</th>\n",
       "      <td>0.027212</td>\n",
       "      <td>-0.237067</td>\n",
       "      <td>1.000000</td>\n",
       "      <td>0.288219</td>\n",
       "      <td>-0.022295</td>\n",
       "      <td>-0.177783</td>\n",
       "      <td>-0.079314</td>\n",
       "      <td>-0.161182</td>\n",
       "      <td>-0.094825</td>\n",
       "      <td>-0.155765</td>\n",
       "    </tr>\n",
       "    <tr>\n",
       "      <th>mileage</th>\n",
       "      <td>-0.126934</td>\n",
       "      <td>-0.312415</td>\n",
       "      <td>0.288219</td>\n",
       "      <td>1.000000</td>\n",
       "      <td>0.045642</td>\n",
       "      <td>-0.218869</td>\n",
       "      <td>-0.225007</td>\n",
       "      <td>-0.495599</td>\n",
       "      <td>-0.005977</td>\n",
       "      <td>0.059103</td>\n",
       "    </tr>\n",
       "    <tr>\n",
       "      <th>engV</th>\n",
       "      <td>-0.013826</td>\n",
       "      <td>0.049804</td>\n",
       "      <td>-0.022295</td>\n",
       "      <td>0.045642</td>\n",
       "      <td>1.000000</td>\n",
       "      <td>-0.007580</td>\n",
       "      <td>-0.017441</td>\n",
       "      <td>-0.040742</td>\n",
       "      <td>0.000540</td>\n",
       "      <td>0.064433</td>\n",
       "    </tr>\n",
       "    <tr>\n",
       "      <th>engType</th>\n",
       "      <td>0.031979</td>\n",
       "      <td>-0.008369</td>\n",
       "      <td>-0.177783</td>\n",
       "      <td>-0.218869</td>\n",
       "      <td>-0.007580</td>\n",
       "      <td>1.000000</td>\n",
       "      <td>0.148864</td>\n",
       "      <td>-0.045471</td>\n",
       "      <td>-0.187236</td>\n",
       "      <td>-0.048850</td>\n",
       "    </tr>\n",
       "    <tr>\n",
       "      <th>registration</th>\n",
       "      <td>0.096148</td>\n",
       "      <td>0.120849</td>\n",
       "      <td>-0.079314</td>\n",
       "      <td>-0.225007</td>\n",
       "      <td>-0.017441</td>\n",
       "      <td>0.148864</td>\n",
       "      <td>1.000000</td>\n",
       "      <td>0.177738</td>\n",
       "      <td>0.062089</td>\n",
       "      <td>-0.045099</td>\n",
       "    </tr>\n",
       "    <tr>\n",
       "      <th>year</th>\n",
       "      <td>0.075025</td>\n",
       "      <td>0.370379</td>\n",
       "      <td>-0.161182</td>\n",
       "      <td>-0.495599</td>\n",
       "      <td>-0.040742</td>\n",
       "      <td>-0.045471</td>\n",
       "      <td>0.177738</td>\n",
       "      <td>1.000000</td>\n",
       "      <td>0.226669</td>\n",
       "      <td>-0.149796</td>\n",
       "    </tr>\n",
       "    <tr>\n",
       "      <th>model</th>\n",
       "      <td>0.052144</td>\n",
       "      <td>0.135268</td>\n",
       "      <td>-0.094825</td>\n",
       "      <td>-0.005977</td>\n",
       "      <td>0.000540</td>\n",
       "      <td>-0.187236</td>\n",
       "      <td>0.062089</td>\n",
       "      <td>0.226669</td>\n",
       "      <td>1.000000</td>\n",
       "      <td>-0.041104</td>\n",
       "    </tr>\n",
       "    <tr>\n",
       "      <th>drive</th>\n",
       "      <td>-0.270942</td>\n",
       "      <td>0.211071</td>\n",
       "      <td>-0.155765</td>\n",
       "      <td>0.059103</td>\n",
       "      <td>0.064433</td>\n",
       "      <td>-0.048850</td>\n",
       "      <td>-0.045099</td>\n",
       "      <td>-0.149796</td>\n",
       "      <td>-0.041104</td>\n",
       "      <td>1.000000</td>\n",
       "    </tr>\n",
       "  </tbody>\n",
       "</table>\n",
       "</div>"
      ],
      "text/plain": [
       "                   car     price      body   mileage      engV   engType  \\\n",
       "car           1.000000 -0.122926  0.027212 -0.126934 -0.013826  0.031979   \n",
       "price        -0.122926  1.000000 -0.237067 -0.312415  0.049804 -0.008369   \n",
       "body          0.027212 -0.237067  1.000000  0.288219 -0.022295 -0.177783   \n",
       "mileage      -0.126934 -0.312415  0.288219  1.000000  0.045642 -0.218869   \n",
       "engV         -0.013826  0.049804 -0.022295  0.045642  1.000000 -0.007580   \n",
       "engType       0.031979 -0.008369 -0.177783 -0.218869 -0.007580  1.000000   \n",
       "registration  0.096148  0.120849 -0.079314 -0.225007 -0.017441  0.148864   \n",
       "year          0.075025  0.370379 -0.161182 -0.495599 -0.040742 -0.045471   \n",
       "model         0.052144  0.135268 -0.094825 -0.005977  0.000540 -0.187236   \n",
       "drive        -0.270942  0.211071 -0.155765  0.059103  0.064433 -0.048850   \n",
       "\n",
       "              registration      year     model     drive  \n",
       "car               0.096148  0.075025  0.052144 -0.270942  \n",
       "price             0.120849  0.370379  0.135268  0.211071  \n",
       "body             -0.079314 -0.161182 -0.094825 -0.155765  \n",
       "mileage          -0.225007 -0.495599 -0.005977  0.059103  \n",
       "engV             -0.017441 -0.040742  0.000540  0.064433  \n",
       "engType           0.148864 -0.045471 -0.187236 -0.048850  \n",
       "registration      1.000000  0.177738  0.062089 -0.045099  \n",
       "year              0.177738  1.000000  0.226669 -0.149796  \n",
       "model             0.062089  0.226669  1.000000 -0.041104  \n",
       "drive            -0.045099 -0.149796 -0.041104  1.000000  "
      ]
     },
     "execution_count": 33,
     "metadata": {},
     "output_type": "execute_result"
    }
   ],
   "source": [
    "Data.corr()"
   ]
  },
  {
   "cell_type": "code",
   "execution_count": 34,
   "metadata": {},
   "outputs": [
    {
     "data": {
      "text/plain": [
       "car               15\n",
       "price           1353\n",
       "body               6\n",
       "mileage          442\n",
       "engV             118\n",
       "engType            4\n",
       "registration       2\n",
       "year              56\n",
       "model            863\n",
       "drive              3\n",
       "dtype: int64"
      ]
     },
     "execution_count": 34,
     "metadata": {},
     "output_type": "execute_result"
    }
   ],
   "source": [
    "Data.nunique()"
   ]
  },
  {
   "cell_type": "code",
   "execution_count": 35,
   "metadata": {},
   "outputs": [],
   "source": [
    "Data[Data_Categorical] = Data[Data_Categorical].astype(dtype=\"int64\")"
   ]
  },
  {
   "cell_type": "code",
   "execution_count": 36,
   "metadata": {},
   "outputs": [],
   "source": [
    "Features = [\"car\",\"engV\",\"registration\",\"drive\",\"model\",\"year\",\"mileage\"]"
   ]
  },
  {
   "cell_type": "code",
   "execution_count": 37,
   "metadata": {},
   "outputs": [],
   "source": [
    "X = Data[Features]\n",
    "y = Data[\"price\"]"
   ]
  },
  {
   "cell_type": "code",
   "execution_count": 38,
   "metadata": {},
   "outputs": [],
   "source": [
    "X_train,X_test,y_train,y_test = train_test_split(X,y,test_size=0.50)"
   ]
  },
  {
   "cell_type": "code",
   "execution_count": 39,
   "metadata": {},
   "outputs": [],
   "source": [
    "Model = RandomForestRegressor(n_estimators=50,max_depth=22,max_features=\"log2\")"
   ]
  },
  {
   "cell_type": "code",
   "execution_count": 40,
   "metadata": {},
   "outputs": [
    {
     "data": {
      "text/html": [
       "<style>#sk-container-id-2 {color: black;background-color: white;}#sk-container-id-2 pre{padding: 0;}#sk-container-id-2 div.sk-toggleable {background-color: white;}#sk-container-id-2 label.sk-toggleable__label {cursor: pointer;display: block;width: 100%;margin-bottom: 0;padding: 0.3em;box-sizing: border-box;text-align: center;}#sk-container-id-2 label.sk-toggleable__label-arrow:before {content: \"▸\";float: left;margin-right: 0.25em;color: #696969;}#sk-container-id-2 label.sk-toggleable__label-arrow:hover:before {color: black;}#sk-container-id-2 div.sk-estimator:hover label.sk-toggleable__label-arrow:before {color: black;}#sk-container-id-2 div.sk-toggleable__content {max-height: 0;max-width: 0;overflow: hidden;text-align: left;background-color: #f0f8ff;}#sk-container-id-2 div.sk-toggleable__content pre {margin: 0.2em;color: black;border-radius: 0.25em;background-color: #f0f8ff;}#sk-container-id-2 input.sk-toggleable__control:checked~div.sk-toggleable__content {max-height: 200px;max-width: 100%;overflow: auto;}#sk-container-id-2 input.sk-toggleable__control:checked~label.sk-toggleable__label-arrow:before {content: \"▾\";}#sk-container-id-2 div.sk-estimator input.sk-toggleable__control:checked~label.sk-toggleable__label {background-color: #d4ebff;}#sk-container-id-2 div.sk-label input.sk-toggleable__control:checked~label.sk-toggleable__label {background-color: #d4ebff;}#sk-container-id-2 input.sk-hidden--visually {border: 0;clip: rect(1px 1px 1px 1px);clip: rect(1px, 1px, 1px, 1px);height: 1px;margin: -1px;overflow: hidden;padding: 0;position: absolute;width: 1px;}#sk-container-id-2 div.sk-estimator {font-family: monospace;background-color: #f0f8ff;border: 1px dotted black;border-radius: 0.25em;box-sizing: border-box;margin-bottom: 0.5em;}#sk-container-id-2 div.sk-estimator:hover {background-color: #d4ebff;}#sk-container-id-2 div.sk-parallel-item::after {content: \"\";width: 100%;border-bottom: 1px solid gray;flex-grow: 1;}#sk-container-id-2 div.sk-label:hover label.sk-toggleable__label {background-color: #d4ebff;}#sk-container-id-2 div.sk-serial::before {content: \"\";position: absolute;border-left: 1px solid gray;box-sizing: border-box;top: 0;bottom: 0;left: 50%;z-index: 0;}#sk-container-id-2 div.sk-serial {display: flex;flex-direction: column;align-items: center;background-color: white;padding-right: 0.2em;padding-left: 0.2em;position: relative;}#sk-container-id-2 div.sk-item {position: relative;z-index: 1;}#sk-container-id-2 div.sk-parallel {display: flex;align-items: stretch;justify-content: center;background-color: white;position: relative;}#sk-container-id-2 div.sk-item::before, #sk-container-id-2 div.sk-parallel-item::before {content: \"\";position: absolute;border-left: 1px solid gray;box-sizing: border-box;top: 0;bottom: 0;left: 50%;z-index: -1;}#sk-container-id-2 div.sk-parallel-item {display: flex;flex-direction: column;z-index: 1;position: relative;background-color: white;}#sk-container-id-2 div.sk-parallel-item:first-child::after {align-self: flex-end;width: 50%;}#sk-container-id-2 div.sk-parallel-item:last-child::after {align-self: flex-start;width: 50%;}#sk-container-id-2 div.sk-parallel-item:only-child::after {width: 0;}#sk-container-id-2 div.sk-dashed-wrapped {border: 1px dashed gray;margin: 0 0.4em 0.5em 0.4em;box-sizing: border-box;padding-bottom: 0.4em;background-color: white;}#sk-container-id-2 div.sk-label label {font-family: monospace;font-weight: bold;display: inline-block;line-height: 1.2em;}#sk-container-id-2 div.sk-label-container {text-align: center;}#sk-container-id-2 div.sk-container {/* jupyter's `normalize.less` sets `[hidden] { display: none; }` but bootstrap.min.css set `[hidden] { display: none !important; }` so we also need the `!important` here to be able to override the default hidden behavior on the sphinx rendered scikit-learn.org. See: https://github.com/scikit-learn/scikit-learn/issues/21755 */display: inline-block !important;position: relative;}#sk-container-id-2 div.sk-text-repr-fallback {display: none;}</style><div id=\"sk-container-id-2\" class=\"sk-top-container\"><div class=\"sk-text-repr-fallback\"><pre>RandomForestRegressor(max_depth=22, max_features=&#x27;log2&#x27;, n_estimators=50)</pre><b>In a Jupyter environment, please rerun this cell to show the HTML representation or trust the notebook. <br />On GitHub, the HTML representation is unable to render, please try loading this page with nbviewer.org.</b></div><div class=\"sk-container\" hidden><div class=\"sk-item\"><div class=\"sk-estimator sk-toggleable\"><input class=\"sk-toggleable__control sk-hidden--visually\" id=\"sk-estimator-id-2\" type=\"checkbox\" checked><label for=\"sk-estimator-id-2\" class=\"sk-toggleable__label sk-toggleable__label-arrow\">RandomForestRegressor</label><div class=\"sk-toggleable__content\"><pre>RandomForestRegressor(max_depth=22, max_features=&#x27;log2&#x27;, n_estimators=50)</pre></div></div></div></div></div>"
      ],
      "text/plain": [
       "RandomForestRegressor(max_depth=22, max_features='log2', n_estimators=50)"
      ]
     },
     "execution_count": 40,
     "metadata": {},
     "output_type": "execute_result"
    }
   ],
   "source": [
    "Model.fit(X_train,y_train)"
   ]
  },
  {
   "cell_type": "code",
   "execution_count": 41,
   "metadata": {},
   "outputs": [],
   "source": [
    "y_pred = Model.predict(X)"
   ]
  },
  {
   "cell_type": "code",
   "execution_count": 42,
   "metadata": {},
   "outputs": [
    {
     "data": {
      "text/plain": [
       "154427701.40022728"
      ]
     },
     "execution_count": 42,
     "metadata": {},
     "output_type": "execute_result"
    }
   ],
   "source": [
    "mean_squared_error(y,y_pred)"
   ]
  },
  {
   "cell_type": "code",
   "execution_count": 48,
   "metadata": {},
   "outputs": [
    {
     "data": {
      "text/plain": [
       "57.16866721287811"
      ]
     },
     "execution_count": 48,
     "metadata": {},
     "output_type": "execute_result"
    }
   ],
   "source": [
    "cross_val_score(Model,X_test,y_test,cv=10).mean()*100"
   ]
  },
  {
   "cell_type": "code",
   "execution_count": 47,
   "metadata": {},
   "outputs": [
    {
     "data": {
      "text/plain": [
       "73.42327900126566"
      ]
     },
     "execution_count": 47,
     "metadata": {},
     "output_type": "execute_result"
    }
   ],
   "source": [
    "r2_score(y,y_pred)*100"
   ]
  },
  {
   "cell_type": "code",
   "execution_count": 124,
   "metadata": {},
   "outputs": [],
   "source": [
    "Data_2[\"price_predict\"] = y_pred.astype(\"int64\")"
   ]
  },
  {
   "cell_type": "code",
   "execution_count": 135,
   "metadata": {},
   "outputs": [
    {
     "data": {
      "text/html": [
       "<div>\n",
       "<style scoped>\n",
       "    .dataframe tbody tr th:only-of-type {\n",
       "        vertical-align: middle;\n",
       "    }\n",
       "\n",
       "    .dataframe tbody tr th {\n",
       "        vertical-align: top;\n",
       "    }\n",
       "\n",
       "    .dataframe thead th {\n",
       "        text-align: right;\n",
       "    }\n",
       "</style>\n",
       "<table border=\"1\" class=\"dataframe\">\n",
       "  <thead>\n",
       "    <tr style=\"text-align: right;\">\n",
       "      <th></th>\n",
       "      <th>car</th>\n",
       "      <th>price</th>\n",
       "      <th>body</th>\n",
       "      <th>mileage</th>\n",
       "      <th>engV</th>\n",
       "      <th>engType</th>\n",
       "      <th>registration</th>\n",
       "      <th>year</th>\n",
       "      <th>model</th>\n",
       "      <th>drive</th>\n",
       "      <th>price_predict</th>\n",
       "    </tr>\n",
       "  </thead>\n",
       "  <tbody>\n",
       "    <tr>\n",
       "      <th>0</th>\n",
       "      <td>Ford</td>\n",
       "      <td>15500</td>\n",
       "      <td>crossover</td>\n",
       "      <td>68</td>\n",
       "      <td>2.5</td>\n",
       "      <td>Gas</td>\n",
       "      <td>yes</td>\n",
       "      <td>2010</td>\n",
       "      <td>Kuga</td>\n",
       "      <td>full</td>\n",
       "      <td>16050</td>\n",
       "    </tr>\n",
       "    <tr>\n",
       "      <th>1</th>\n",
       "      <td>Mercedes-Benz</td>\n",
       "      <td>20500</td>\n",
       "      <td>sedan</td>\n",
       "      <td>173</td>\n",
       "      <td>1.8</td>\n",
       "      <td>Gas</td>\n",
       "      <td>yes</td>\n",
       "      <td>2011</td>\n",
       "      <td>E-Class</td>\n",
       "      <td>rear</td>\n",
       "      <td>20722</td>\n",
       "    </tr>\n",
       "    <tr>\n",
       "      <th>2</th>\n",
       "      <td>Mercedes-Benz</td>\n",
       "      <td>35000</td>\n",
       "      <td>other</td>\n",
       "      <td>135</td>\n",
       "      <td>5.5</td>\n",
       "      <td>Petrol</td>\n",
       "      <td>yes</td>\n",
       "      <td>2008</td>\n",
       "      <td>CL 550</td>\n",
       "      <td>rear</td>\n",
       "      <td>34870</td>\n",
       "    </tr>\n",
       "    <tr>\n",
       "      <th>3</th>\n",
       "      <td>Mercedes-Benz</td>\n",
       "      <td>17800</td>\n",
       "      <td>van</td>\n",
       "      <td>162</td>\n",
       "      <td>1.8</td>\n",
       "      <td>Diesel</td>\n",
       "      <td>yes</td>\n",
       "      <td>2012</td>\n",
       "      <td>B 180</td>\n",
       "      <td>front</td>\n",
       "      <td>18303</td>\n",
       "    </tr>\n",
       "    <tr>\n",
       "      <th>4</th>\n",
       "      <td>Mercedes-Benz</td>\n",
       "      <td>33000</td>\n",
       "      <td>vagon</td>\n",
       "      <td>91</td>\n",
       "      <td>NaN</td>\n",
       "      <td>Other</td>\n",
       "      <td>yes</td>\n",
       "      <td>2013</td>\n",
       "      <td>E-Class</td>\n",
       "      <td>NaN</td>\n",
       "      <td>16043</td>\n",
       "    </tr>\n",
       "    <tr>\n",
       "      <th>...</th>\n",
       "      <td>...</td>\n",
       "      <td>...</td>\n",
       "      <td>...</td>\n",
       "      <td>...</td>\n",
       "      <td>...</td>\n",
       "      <td>...</td>\n",
       "      <td>...</td>\n",
       "      <td>...</td>\n",
       "      <td>...</td>\n",
       "      <td>...</td>\n",
       "      <td>...</td>\n",
       "    </tr>\n",
       "    <tr>\n",
       "      <th>9571</th>\n",
       "      <td>Hyundai</td>\n",
       "      <td>14500</td>\n",
       "      <td>crossover</td>\n",
       "      <td>140</td>\n",
       "      <td>2.0</td>\n",
       "      <td>Gas</td>\n",
       "      <td>yes</td>\n",
       "      <td>2011</td>\n",
       "      <td>Tucson</td>\n",
       "      <td>front</td>\n",
       "      <td>10673</td>\n",
       "    </tr>\n",
       "    <tr>\n",
       "      <th>9572</th>\n",
       "      <td>Volkswagen</td>\n",
       "      <td>2200</td>\n",
       "      <td>vagon</td>\n",
       "      <td>150</td>\n",
       "      <td>1.6</td>\n",
       "      <td>Petrol</td>\n",
       "      <td>yes</td>\n",
       "      <td>1986</td>\n",
       "      <td>Passat B2</td>\n",
       "      <td>front</td>\n",
       "      <td>2606</td>\n",
       "    </tr>\n",
       "    <tr>\n",
       "      <th>9573</th>\n",
       "      <td>Mercedes-Benz</td>\n",
       "      <td>18500</td>\n",
       "      <td>crossover</td>\n",
       "      <td>180</td>\n",
       "      <td>3.5</td>\n",
       "      <td>Petrol</td>\n",
       "      <td>yes</td>\n",
       "      <td>2008</td>\n",
       "      <td>ML 350</td>\n",
       "      <td>full</td>\n",
       "      <td>20298</td>\n",
       "    </tr>\n",
       "    <tr>\n",
       "      <th>9574</th>\n",
       "      <td>Lexus</td>\n",
       "      <td>16999</td>\n",
       "      <td>sedan</td>\n",
       "      <td>150</td>\n",
       "      <td>3.5</td>\n",
       "      <td>Gas</td>\n",
       "      <td>yes</td>\n",
       "      <td>2008</td>\n",
       "      <td>ES 350</td>\n",
       "      <td>front</td>\n",
       "      <td>16674</td>\n",
       "    </tr>\n",
       "    <tr>\n",
       "      <th>9575</th>\n",
       "      <td>Audi</td>\n",
       "      <td>22500</td>\n",
       "      <td>other</td>\n",
       "      <td>71</td>\n",
       "      <td>3.6</td>\n",
       "      <td>Petrol</td>\n",
       "      <td>yes</td>\n",
       "      <td>2007</td>\n",
       "      <td>Q7</td>\n",
       "      <td>full</td>\n",
       "      <td>23898</td>\n",
       "    </tr>\n",
       "  </tbody>\n",
       "</table>\n",
       "<p>9576 rows × 11 columns</p>\n",
       "</div>"
      ],
      "text/plain": [
       "                car  price       body  mileage  engV engType registration  \\\n",
       "0              Ford  15500  crossover       68   2.5     Gas          yes   \n",
       "1     Mercedes-Benz  20500      sedan      173   1.8     Gas          yes   \n",
       "2     Mercedes-Benz  35000      other      135   5.5  Petrol          yes   \n",
       "3     Mercedes-Benz  17800        van      162   1.8  Diesel          yes   \n",
       "4     Mercedes-Benz  33000      vagon       91   NaN   Other          yes   \n",
       "...             ...    ...        ...      ...   ...     ...          ...   \n",
       "9571        Hyundai  14500  crossover      140   2.0     Gas          yes   \n",
       "9572     Volkswagen   2200      vagon      150   1.6  Petrol          yes   \n",
       "9573  Mercedes-Benz  18500  crossover      180   3.5  Petrol          yes   \n",
       "9574          Lexus  16999      sedan      150   3.5     Gas          yes   \n",
       "9575           Audi  22500      other       71   3.6  Petrol          yes   \n",
       "\n",
       "      year      model  drive  price_predict  \n",
       "0     2010       Kuga   full          16050  \n",
       "1     2011    E-Class   rear          20722  \n",
       "2     2008     CL 550   rear          34870  \n",
       "3     2012      B 180  front          18303  \n",
       "4     2013    E-Class    NaN          16043  \n",
       "...    ...        ...    ...            ...  \n",
       "9571  2011     Tucson  front          10673  \n",
       "9572  1986  Passat B2  front           2606  \n",
       "9573  2008     ML 350   full          20298  \n",
       "9574  2008     ES 350  front          16674  \n",
       "9575  2007         Q7   full          23898  \n",
       "\n",
       "[9576 rows x 11 columns]"
      ]
     },
     "execution_count": 135,
     "metadata": {},
     "output_type": "execute_result"
    }
   ],
   "source": [
    "Data_2"
   ]
  }
 ],
 "metadata": {
  "kernelspec": {
   "display_name": "Python 3",
   "language": "python",
   "name": "python3"
  },
  "language_info": {
   "codemirror_mode": {
    "name": "ipython",
    "version": 3
   },
   "file_extension": ".py",
   "mimetype": "text/x-python",
   "name": "python",
   "nbconvert_exporter": "python",
   "pygments_lexer": "ipython3",
   "version": "3.10.5"
  },
  "orig_nbformat": 4,
  "vscode": {
   "interpreter": {
    "hash": "ac61d8b3d1db883d7b4dc709bba76d3670ed6ad9253362ee4eb04037346de10d"
   }
  }
 },
 "nbformat": 4,
 "nbformat_minor": 2
}
