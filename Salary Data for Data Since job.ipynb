{
 "cells": [
  {
   "cell_type": "code",
   "execution_count": 1,
   "metadata": {},
   "outputs": [],
   "source": [
    "# import the important libraries\n",
    "import pandas as pd\n",
    "import numpy as np\n",
    "import matplotlib.pyplot as plt\n",
    "import seaborn as sea"
   ]
  },
  {
   "cell_type": "code",
   "execution_count": 2,
   "metadata": {},
   "outputs": [],
   "source": [
    "# read the data using read_csv fun\n",
    "Data = pd.read_csv(\"C:/Users/nxt-1/Desktop/Dataset/salaries.csv\")"
   ]
  },
  {
   "cell_type": "code",
   "execution_count": 3,
   "metadata": {},
   "outputs": [
    {
     "data": {
      "text/html": [
       "<div>\n",
       "<style scoped>\n",
       "    .dataframe tbody tr th:only-of-type {\n",
       "        vertical-align: middle;\n",
       "    }\n",
       "\n",
       "    .dataframe tbody tr th {\n",
       "        vertical-align: top;\n",
       "    }\n",
       "\n",
       "    .dataframe thead th {\n",
       "        text-align: right;\n",
       "    }\n",
       "</style>\n",
       "<table border=\"1\" class=\"dataframe\">\n",
       "  <thead>\n",
       "    <tr style=\"text-align: right;\">\n",
       "      <th></th>\n",
       "      <th>work_year</th>\n",
       "      <th>experience_level</th>\n",
       "      <th>employment_type</th>\n",
       "      <th>job_title</th>\n",
       "      <th>salary</th>\n",
       "      <th>salary_currency</th>\n",
       "      <th>salary_in_usd</th>\n",
       "      <th>employee_residence</th>\n",
       "      <th>remote_ratio</th>\n",
       "      <th>company_location</th>\n",
       "      <th>company_size</th>\n",
       "    </tr>\n",
       "  </thead>\n",
       "  <tbody>\n",
       "    <tr>\n",
       "      <th>0</th>\n",
       "      <td>2023</td>\n",
       "      <td>EX</td>\n",
       "      <td>FT</td>\n",
       "      <td>Data Science Director</td>\n",
       "      <td>212000</td>\n",
       "      <td>USD</td>\n",
       "      <td>212000</td>\n",
       "      <td>US</td>\n",
       "      <td>0</td>\n",
       "      <td>US</td>\n",
       "      <td>M</td>\n",
       "    </tr>\n",
       "    <tr>\n",
       "      <th>1</th>\n",
       "      <td>2023</td>\n",
       "      <td>EX</td>\n",
       "      <td>FT</td>\n",
       "      <td>Data Science Director</td>\n",
       "      <td>190000</td>\n",
       "      <td>USD</td>\n",
       "      <td>190000</td>\n",
       "      <td>US</td>\n",
       "      <td>0</td>\n",
       "      <td>US</td>\n",
       "      <td>M</td>\n",
       "    </tr>\n",
       "    <tr>\n",
       "      <th>2</th>\n",
       "      <td>2023</td>\n",
       "      <td>MI</td>\n",
       "      <td>FT</td>\n",
       "      <td>Business Intelligence Engineer</td>\n",
       "      <td>35000</td>\n",
       "      <td>GBP</td>\n",
       "      <td>43064</td>\n",
       "      <td>GB</td>\n",
       "      <td>0</td>\n",
       "      <td>GB</td>\n",
       "      <td>M</td>\n",
       "    </tr>\n",
       "    <tr>\n",
       "      <th>3</th>\n",
       "      <td>2023</td>\n",
       "      <td>MI</td>\n",
       "      <td>FT</td>\n",
       "      <td>Business Intelligence Engineer</td>\n",
       "      <td>35000</td>\n",
       "      <td>GBP</td>\n",
       "      <td>43064</td>\n",
       "      <td>GB</td>\n",
       "      <td>0</td>\n",
       "      <td>GB</td>\n",
       "      <td>M</td>\n",
       "    </tr>\n",
       "    <tr>\n",
       "      <th>4</th>\n",
       "      <td>2023</td>\n",
       "      <td>SE</td>\n",
       "      <td>FT</td>\n",
       "      <td>Machine Learning Engineer</td>\n",
       "      <td>245700</td>\n",
       "      <td>USD</td>\n",
       "      <td>245700</td>\n",
       "      <td>US</td>\n",
       "      <td>0</td>\n",
       "      <td>US</td>\n",
       "      <td>M</td>\n",
       "    </tr>\n",
       "  </tbody>\n",
       "</table>\n",
       "</div>"
      ],
      "text/plain": [
       "   work_year experience_level employment_type                       job_title  \\\n",
       "0       2023               EX              FT           Data Science Director   \n",
       "1       2023               EX              FT           Data Science Director   \n",
       "2       2023               MI              FT  Business Intelligence Engineer   \n",
       "3       2023               MI              FT  Business Intelligence Engineer   \n",
       "4       2023               SE              FT       Machine Learning Engineer   \n",
       "\n",
       "   salary salary_currency  salary_in_usd employee_residence  remote_ratio  \\\n",
       "0  212000             USD         212000                 US             0   \n",
       "1  190000             USD         190000                 US             0   \n",
       "2   35000             GBP          43064                 GB             0   \n",
       "3   35000             GBP          43064                 GB             0   \n",
       "4  245700             USD         245700                 US             0   \n",
       "\n",
       "  company_location company_size  \n",
       "0               US            M  \n",
       "1               US            M  \n",
       "2               GB            M  \n",
       "3               GB            M  \n",
       "4               US            M  "
      ]
     },
     "execution_count": 3,
     "metadata": {},
     "output_type": "execute_result"
    }
   ],
   "source": [
    "# display the first five row\n",
    "Data.head()"
   ]
  },
  {
   "cell_type": "code",
   "execution_count": 4,
   "metadata": {},
   "outputs": [],
   "source": [
    "# first step to start any features engineering or features selection are to copy the column that you want to manipulation with it\n",
    "Data[\"job_title_copy\"] = Data[\"job_title\"].copy()"
   ]
  },
  {
   "cell_type": "code",
   "execution_count": 5,
   "metadata": {},
   "outputs": [
    {
     "data": {
      "text/plain": [
       "array(['M', 'S', 'L'], dtype=object)"
      ]
     },
     "execution_count": 5,
     "metadata": {},
     "output_type": "execute_result"
    }
   ],
   "source": [
    "# display the unique value for company_size column using unique()\n",
    "Data[\"company_size\"].unique()"
   ]
  },
  {
   "cell_type": "code",
   "execution_count": 6,
   "metadata": {},
   "outputs": [],
   "source": [
    "# convert category var into number because the machine learning model cannot understand the category var so that convert data.\n",
    "Data[\"experience_level_converted\"] = Data[\"experience_level\"].map({\"SE\" : 2 ,\"MI\" : 3, \"EN\" : 1, \"EX\" : 4 })\n",
    "\n",
    "Data[\"employment_type_converted\"] = Data[\"employment_type\"].map({\"FT\" : 4,\"CT\" : 2, \"PT\" : 3, \"FL\" : 1})\n",
    "\n",
    "Data[\"salary_currency_converted\"] = Data[\"salary_currency\"].map({\"USD\" : 1,\"EUR\" : 2, \"GBP\" : 3, \"INR\" : 4, \"CAD\": 5, \"AUD\" : 6,\"PLN\" : 7, \"SGD\" : 8, \"CHF\" : 9, \"BRL\" : 10,\"JPY\" : 11,\"DKK\" : 12,\"TRY\" : 13,\"HUF\" : 14\n",
    "                             ,\"THB\" : 15,\"NOK\": 16 , \"ILS\" : 17, \"HKD\": 18, \"ZAR\" : 19, \"PHP\" : 20, \"MXN\" : 21, \"CLP\" : 22})\n",
    "Data[\"company_size_converted\"] = Data[\"company_size\"].map({\"S\" : 0, \"M\" : 1, \"L\" : 2})"
   ]
  },
  {
   "cell_type": "code",
   "execution_count": 8,
   "metadata": {},
   "outputs": [],
   "source": [
    "# import OrdinalEncoder libarary to encoding the categorical data into numerical data\n",
    "from sklearn.preprocessing import OrdinalEncoder\n",
    "OE = OrdinalEncoder()"
   ]
  },
  {
   "cell_type": "code",
   "execution_count": 9,
   "metadata": {},
   "outputs": [],
   "source": [
    "# apply fun fit_transform() for each categorical columns\n",
    "Data[\"employee_residence_converted\"] = OE.fit_transform(np.array(Data[\"employee_residence\"]).reshape(-1,1)) \n",
    "Data[\"company_location_converted\"] = OE.fit_transform(np.array(Data[\"company_location\"]).reshape(-1,1))\n",
    "Data[\"company_size_converted\"] = OE.fit_transform(np.array(Data[\"company_size\"]).reshape(-1,1))\n",
    "Data[\"job_title_copy_classification\"] = OE.fit_transform(np.array(Data[\"job_title_copy\"]).reshape(-1,1)) "
   ]
  },
  {
   "cell_type": "code",
   "execution_count": 10,
   "metadata": {},
   "outputs": [],
   "source": [
    "# convert the type to int datatype\n",
    "Data[\"employee_residence_converted\"] = Data[\"employee_residence_converted\"].astype(\"int\")\n",
    "Data[\"company_location_converted\"] = Data[\"company_location_converted\"].astype(\"int\")\n",
    "Data[\"company_size_converted\"] = Data[\"company_size_converted\"].astype(\"int\")\n",
    "Data[\"job_title_copy_classification\"] = Data[\"job_title_copy_classification\"].astype(\"int\")"
   ]
  },
  {
   "cell_type": "code",
   "execution_count": 12,
   "metadata": {},
   "outputs": [
    {
     "data": {
      "text/plain": [
       "array(['Data Science Director', 'Business Intelligence Engineer',\n",
       "       'Machine Learning Engineer', 'Data Specialist', 'Data Scientist',\n",
       "       'ML Engineer', 'Data Engineer', 'Data Analyst', 'Data Architect',\n",
       "       'Data Product Manager', 'Analytics Engineer',\n",
       "       'Business Intelligence Consultant', 'BI Data Analyst',\n",
       "       'Research Scientist', 'Data Integration Engineer', 'AI Engineer',\n",
       "       'Applied Scientist', 'Machine Learning Scientist', 'BI Developer',\n",
       "       'Business Intelligence Manager', 'Data Integration Specialist',\n",
       "       'Data Science Practitioner', 'Research Engineer',\n",
       "       'Business Intelligence Analyst', 'Business Intelligence Developer',\n",
       "       'AI Research Engineer', 'Data Science Consultant', 'Data Lead',\n",
       "       'Head of Data', 'Data Management Specialist', 'AI Developer',\n",
       "       'Data Manager', 'AI Architect', 'MLOps Engineer',\n",
       "       'Data Science Manager', 'Data Strategist',\n",
       "       'Business Intelligence Specialist',\n",
       "       'Machine Learning Infrastructure Engineer', 'Research Analyst',\n",
       "       'Data Quality Engineer', 'Director of Data Science',\n",
       "       'Business Data Analyst', 'Data Quality Analyst', 'AI Programmer',\n",
       "       'Decision Scientist', 'Financial Data Analyst',\n",
       "       'Data Science Engineer', 'Data Strategy Manager',\n",
       "       'Computer Vision Engineer', 'Data Visualization Specialist',\n",
       "       'BI Analyst', 'Insight Analyst', 'Data Visualization Engineer',\n",
       "       'Data Modeler', 'ETL Developer', 'Data Analytics Manager',\n",
       "       'Azure Data Engineer', 'Data Developer',\n",
       "       'Principal Data Scientist', 'Data Science Lead',\n",
       "       'Machine Learning Researcher', 'Staff Data Analyst',\n",
       "       'Data Infrastructure Engineer',\n",
       "       'Machine Learning Software Engineer',\n",
       "       'Machine Learning Operations Engineer', 'AI Scientist',\n",
       "       'Head of Machine Learning', 'Applied Data Scientist',\n",
       "       'Data Operations Analyst', 'Applied Machine Learning Scientist',\n",
       "       'Data Analytics Lead', 'Data Operations Engineer',\n",
       "       'Machine Learning Manager', 'Lead Data Scientist',\n",
       "       'Principal Machine Learning Engineer', 'Principal Data Engineer',\n",
       "       'Power BI Developer', 'Head of Data Science',\n",
       "       'Staff Machine Learning Engineer', 'Staff Data Scientist',\n",
       "       'Consultant Data Engineer', 'Machine Learning Specialist',\n",
       "       'Deep Learning Engineer', 'Business Intelligence Data Analyst',\n",
       "       'Data Operations Manager', 'Lead Machine Learning Engineer',\n",
       "       'Managing Director Data Science', 'Data Modeller',\n",
       "       'Finance Data Analyst', 'Software Data Engineer',\n",
       "       'Machine Learning Research Engineer', 'Compliance Data Analyst',\n",
       "       'Data Operations Specialist', 'Cloud Data Engineer',\n",
       "       'Analytics Engineering Manager', 'NLP Engineer',\n",
       "       'AWS Data Architect', 'Product Data Analyst',\n",
       "       'Machine Learning Developer', 'Data Visualization Analyst',\n",
       "       'Autonomous Vehicle Technician', 'Sales Data Analyst',\n",
       "       'Applied Machine Learning Engineer', 'ETL Engineer',\n",
       "       'Data DevOps Engineer', 'Big Data Engineer', 'Lead Data Analyst',\n",
       "       'BI Data Engineer', 'Cloud Database Engineer',\n",
       "       'Deep Learning Researcher', 'Data Analytics Specialist',\n",
       "       'Big Data Architect', 'Computer Vision Software Engineer',\n",
       "       'Marketing Data Engineer', 'Manager Data Management',\n",
       "       'Data Analytics Consultant', 'Data Science Tech Lead',\n",
       "       'Data Scientist Lead', 'Marketing Data Analyst',\n",
       "       'Principal Data Architect', 'Data Analytics Engineer',\n",
       "       'Cloud Data Architect', 'Lead Data Engineer',\n",
       "       'Principal Data Analyst'], dtype=object)"
      ]
     },
     "execution_count": 12,
     "metadata": {},
     "output_type": "execute_result"
    }
   ],
   "source": [
    "# here what i am doing is to classfication the job title columns into 7 main jobs and here the job that i classfied :\n",
    "# Data Science - Business Intelligence - Machine Learning - Data Architect - Data Engineer - Data Management - Data Analyst\n",
    "Data[\"job_title\"].unique()\n",
    "\n",
    "# Data Science : [Data Science Director - Data Science Practitioner - Data Science Consultant - Data Science Manager - Decision Scientist - Data Science Enginee - Principal Data Scientist - 'Data Science Lead\n",
    "# Applied Data Scientist - Lead Data Scientist - Head of Data Science - Staff Data Scientist - Managing Director Data Science - Data Science Tech Lead - Data Scientist Lead - Director of Data Science]\n",
    "\n",
    "\n",
    "\n",
    "# Busniess Intelligence : [Business Intelligence Engineer,Business Intelligence Consultant,BI Data Analyst,BI Developer,Business Intelligence Manager,Business Intelligence Analyst,Business Intelligence Developer\n",
    "# - Business Intelligence Specialist - BI Analyst - Business Intelligence Data Analyst - BI Data Engineer]\n",
    "\n",
    "\n",
    "\n",
    "# Machine Learning : [Machine Learning Engineer - ML Engineer - AI Engineer - Machine Learning Scientist - AI Research Engineer - AI Developer - AI Programmer - Computer Vision Engineer - Computer Vision Software Engineer - Machine Learning Researcher\n",
    "# Machine Learning Software Engineer - Machine Learning Operations Engineer - AI Scientist - Head of Machine Learning - Applied Machine Learning Scientist - Machine Learning Manage - \n",
    "# Principal Machine Learning Engineer - Staff Machine Learning Engineer - Machine Learning Specialist - Deep Learning Engineer - Lead Machine Learning Engineer - \n",
    "# Machine Learning Research Engineer - NLP Engineer - Machine Learning Developer - Applied Machine Learning Engineer - Deep Learning Researcher - MLOps Engineer]\n",
    "\n",
    "\n",
    "\n",
    "# Data Architect : [Data Architect - Data Modeller - AWS Data Architect - Big Data Architect - Principal Data Architec - Cloud Data Architect]\n",
    "\n",
    "\n",
    "\n",
    "# Data Engineer ; [Data Engineer - Data Quality Engineer - ETL Developer - Data Infrastructure Engineer - Data Operations Engineer - Research Engineer - Cloud Data Engineer - Analytics Engineering Manager - ETL Engineer\n",
    "#  - Big Data Engineer - Cloud Database Engineer - Marketing Data Engineer - Lead Data Engineer - 'Data Analytics Engineer - Data DevOps Engineer]\n",
    "\n",
    "\n",
    "\n",
    "# Data Management : [Data Product Manager - Data Strategist - Autonomous Vehicle Technician - Data Management Specialist - Data Manager - Data Strategy Manager - Data Operations Manager - Data Operations Specialist - Manager Data Management]\n",
    "\n",
    "\n",
    "#  Data Analyst : [Data Analyst - Data Lead - Head of Data - Research Analyst - Financial Data Analyst - 'Data Visualization Specialist - Insight Analyst - Data Analytics Manager\n",
    "# - Data Developer - Staff Data Analyst - Data Analytics Lead - Power BI Developer - Compliance Data Analyst - Product Data Analyst - Data Visualization Analyst - Sales Data Analyst\n",
    "# - Lead Data Analyst - Data Analytics Specialist - Principal Data Analyst  - Marketing Data Analyst]"
   ]
  },
  {
   "cell_type": "code",
   "execution_count": 13,
   "metadata": {},
   "outputs": [],
   "source": [
    "job_Data_Science = [\"Data Science Director\", \"Data Science Practitioner\", \"Data Science Consultant\", \"Data Science Manager\", \n",
    "                    \"Decision Scientist\", \"Data Science Enginee\", \"Principal Data Scientist\",\"Data Scientist\",\"Applied Scientist\",\n",
    "                     \"Data Science Lead\",\"Applied Data Scientist\", \"Lead Data Scientist\", \"Head of Data Science\",\n",
    "                     \"Staff Data Scientist\",\"Managing Director Data Science\", \"Data Science Tech Lead\", \"Data Scientist Lead\",\"Director of Data Science\",\"Research Scientist\",\"Applied Scientist\"\n",
    "                     ,\"Data Science Engineer\"]"
   ]
  },
  {
   "cell_type": "code",
   "execution_count": 14,
   "metadata": {},
   "outputs": [],
   "source": [
    "job_Busniess_Intelligence = [\"Business Intelligence Engineer\",\"Business Intelligence Consultant\",\"BI Data Analyst\",\n",
    "                          \"BI Developer\",\"Business Intelligence Manager\",\"Business Intelligence Analyst\",\"Business Intelligence Developer\"\n",
    "                           ,\"Business Intelligence Specialist\",\"BI Analyst\",\"Business Intelligence Data Analyst\",\"BI Data Engineer\",\"Business Data Analyst\",\"Data Visualization Engineer\"]"
   ]
  },
  {
   "cell_type": "code",
   "execution_count": 15,
   "metadata": {},
   "outputs": [],
   "source": [
    "job_Machine_Learning = [\"Machine Learning Engineer\", \"ML Engineer\", \"AI Engineer\", \"Machine Learning Scientist\", \"AI Research Engineer\", \"AI Developer\", \"AI Programmer\",\"Computer Vision Engineer\",\n",
    "                         \"Computer Vision Software Engineer\",\"Machine Learning Researcher\"\n",
    "                         \"Machine Learning Software Engineer\",\"Machine Learning Operations Engineer\",\n",
    "                         \"AI Scientist\",\"Head of Machine Learning\", \"Applied Machine Learning Scientist\",\"Machine Learning Manage\", \n",
    "                        \"Principal Machine Learning Engineer\", \"Staff Machine Learning Engineer\", \n",
    "                        \"Machine Learning Specialist\", \"Deep Learning Engineer\", \"Lead Machine Learning Engineer\", \n",
    "                         \"Machine Learning Research Engineer\", \"NLP Engineer\", \"Machine Learning Developer\", \"Applied Machine Learning Engineer\",\"Deep Learning Researcher\", \"MLOps Engineer\"\n",
    "                         ,\"Machine Learning Infrastructure Engineer\",\"Machine Learning Researcher\",\"Machine Learning Software Engineer\",\"Machine Learning Manager\",\"AI Architect\"]"
   ]
  },
  {
   "cell_type": "code",
   "execution_count": 16,
   "metadata": {},
   "outputs": [],
   "source": [
    "job_Data_Architect =  [\"Data Architect\", \"Data Modeller\",\"AWS Data Architect\"\n",
    "                       ,\"Big Data Architect\",\"Principal Data Architec\",\"Cloud Data Architect\",\"Data Quality Analyst\",\"Data Modeler\",\n",
    "                       \"Principal Data Architect\",\"Principal Data Architect\"]"
   ]
  },
  {
   "cell_type": "code",
   "execution_count": 17,
   "metadata": {},
   "outputs": [],
   "source": [
    "job_Data_Engineer = [\"Data Engineer\",\"Data Quality Engineer\",\"ETL Developer\",\"Data Infrastructure Engineer\",\"Data Operations Engineer\"\n",
    "                     ,\"Research Engineer\" ,\"Cloud Data Engineer\",\"Analytics Engineering Manager\"\n",
    "                  ,\"ETL Engineer\",\"Big Data Engineer\", \"Cloud Database Engineer\", \"Marketing Data Engineer\", \"Lead Data Engineer\", \"Data Analytics Engineer\", \"Data DevOps Engineer\",\"Analytics Engineer\"\n",
    "                  \"Data Integration Engineer\",\"Data Integration Specialist\",\"Azure Data Engineer\",\"Principal Data Engineer\",\"Consultant Data Engineer\",\"Software Data Engineer\",\"Analytics Engineer\",\"Data Integration Engineer\"]"
   ]
  },
  {
   "cell_type": "code",
   "execution_count": 18,
   "metadata": {},
   "outputs": [],
   "source": [
    "job_Data_Management = [\"Data Product Manager\", \"Data Strategist\" ,\"Autonomous Vehicle Technician\",\"Data Management Specialist\",\"Data Manager\" \"Data Strategy Manager\", \n",
    "                       \"Data Operations Manager\", \"Data Operations Specialist\",\"Data Operations Analyst\",\"Manager Data Management\",\"Data Manager\",\"Data Strategy Manager\"]"
   ]
  },
  {
   "cell_type": "code",
   "execution_count": 19,
   "metadata": {},
   "outputs": [],
   "source": [
    "job_Data_Analyst = [\"Data Analyst\", \"Data Lead\", \"Head of Data\", \"Research Analyst\", \"Financial Data Analyst\",\"Data Visualization Specialist\",\"Insight Analyst\", \"Data Analytics Manager\"\n",
    ",\"Data Developer\", \"Staff Data Analyst\", \"Data Analytics Lead\", \"Power BI Developer\", \"Compliance Data Analyst\" ,\"Product Data Analyst\", \"Data Visualization Analyst\", \"Sales Data Analyst\"\n",
    ",\"Lead Data Analyst\", \"Data Analytics Specialist\", \"Principal Data Analyst\",\"Marketing Data Analyst\",\"Finance Data Analyst\",\"Data Analytics Consultant\",\"Data Specialist\"]"
   ]
  },
  {
   "cell_type": "code",
   "execution_count": 20,
   "metadata": {},
   "outputs": [],
   "source": [
    "# replaced the classifed into categorical\n",
    "Data[\"job_title_copy\"].replace(job_Data_Science,\"Data Science\",inplace=True)\n",
    "Data[\"job_title_copy\"].replace(job_Busniess_Intelligence,\"Busniess Intelligence\",inplace=True)\n",
    "Data[\"job_title_copy\"].replace(job_Machine_Learning,\"Machine Learning\",inplace=True)\n",
    "Data[\"job_title_copy\"].replace(job_Data_Architect,\"Data Architect\",inplace=True)\n",
    "Data[\"job_title_copy\"].replace(job_Data_Engineer,\"Data Engineer\",inplace=True)\n",
    "Data[\"job_title_copy\"].replace(job_Data_Management,\"Data Management\",inplace=True)\n",
    "Data[\"job_title_copy\"].replace(job_Data_Analyst,\"Data Analyst\",inplace=True)"
   ]
  },
  {
   "cell_type": "code",
   "execution_count": 21,
   "metadata": {},
   "outputs": [],
   "source": [
    "# import OrdinalEncoder libarary\n",
    "from sklearn.preprocessing import OrdinalEncoder\n",
    "OE = OrdinalEncoder()"
   ]
  },
  {
   "cell_type": "code",
   "execution_count": 22,
   "metadata": {},
   "outputs": [],
   "source": [
    "# apply fun fit_transform() for each categorical columns\n",
    "Data[\"employee_residence_converted\"] = OE.fit_transform(np.array(Data[\"employee_residence\"]).reshape(-1,1)) \n",
    "Data[\"company_location_converted\"] = OE.fit_transform(np.array(Data[\"company_location\"]).reshape(-1,1))\n",
    "Data[\"job_title_copy_classification\"] = OE.fit_transform(np.array(Data[\"job_title_copy\"]).reshape(-1,1)) "
   ]
  },
  {
   "cell_type": "code",
   "execution_count": 23,
   "metadata": {},
   "outputs": [],
   "source": [
    "# convert the type to int datatype\n",
    "Data[\"employee_residence_converted\"] = Data[\"employee_residence_converted\"].astype(\"int\")\n",
    "Data[\"company_location_converted\"] = Data[\"company_location_converted\"].astype(\"int\")\n",
    "Data[\"job_title_copy_classification\"] = Data[\"job_title_copy_classification\"].astype(\"int\")"
   ]
  },
  {
   "cell_type": "code",
   "execution_count": 24,
   "metadata": {},
   "outputs": [],
   "source": [
    "# replace the postion for each columns:\n",
    "new_col = ['work_year', 'experience_level','experience_level_converted','employment_type','employment_type_converted', 'job_title',\n",
    "       'job_title_copy','job_title_copy_classification','salary_currency','salary_currency_converted',\n",
    "       'employee_residence','employee_residence_converted', 'company_location','company_location_converted',\n",
    "       'company_size','company_size_converted','remote_ratio',\n",
    "       'salary']\n",
    "Data = Data.reindex(columns=new_col)"
   ]
  },
  {
   "cell_type": "code",
   "execution_count": 27,
   "metadata": {},
   "outputs": [],
   "source": [
    "#divid the data into x and y. x for independent var and y for dependent var\n",
    "eatures = [\"work_year\",\"experience_level_converted\",\"employment_type_converted\"\n",
    "            ,\"job_title_copy_classification\",\"salary_currency_converted\"\n",
    "            ,\"company_location_converted\",\"remote_ratio\",\"employee_residence_converted\",]\n",
    "y = Data[\"salary\"]\n",
    "x = Data[Features]"
   ]
  },
  {
   "cell_type": "code",
   "execution_count": 28,
   "metadata": {},
   "outputs": [
    {
     "data": {
      "text/plain": [
       "work_year                        int64\n",
       "experience_level_converted       int64\n",
       "employment_type_converted        int64\n",
       "job_title_copy_classification    int32\n",
       "salary_currency_converted        int64\n",
       "company_location_converted       int32\n",
       "remote_ratio                     int64\n",
       "employee_residence_converted     int32\n",
       "dtype: object"
      ]
     },
     "execution_count": 28,
     "metadata": {},
     "output_type": "execute_result"
    }
   ],
   "source": [
    "# display the datatypes for x var that include\n",
    "x.dtypes"
   ]
  },
  {
   "cell_type": "markdown",
   "metadata": {},
   "source": [
    "Train,Test,Fit and Evaluation Model using some of the top algorithms for regression problem and start with:\n",
    "\n",
    "1- Random Forest for Regressor problem"
   ]
  },
  {
   "cell_type": "code",
   "execution_count": 30,
   "metadata": {},
   "outputs": [],
   "source": [
    "from sklearn.model_selection import train_test_split\n",
    "from sklearn.linear_model import LinearRegression\n",
    "from sklearn.tree import DecisionTreeRegressor\n",
    "from sklearn.svm import SVR\n",
    "from sklearn.ensemble import RandomForestRegressor\n",
    "from sklearn.model_selection import cross_val_score\n",
    "from sklearn.metrics import mean_absolute_error\n",
    "from sklearn.metrics import mean_squared_error\n",
    "from sklearn.metrics import r2_score\n",
    "from sklearn.metrics import accuracy_score"
   ]
  },
  {
   "cell_type": "code",
   "execution_count": 31,
   "metadata": {},
   "outputs": [],
   "source": [
    "# split the data into X_train,X_test,Y_train,Y_test\n",
    "X_train,X_test,Y_train,Y_test = train_test_split(x,y,train_size=0.25,random_state=100)"
   ]
  },
  {
   "cell_type": "code",
   "execution_count": 33,
   "metadata": {},
   "outputs": [
    {
     "data": {
      "text/html": [
       "<style>#sk-container-id-1 {color: black;background-color: white;}#sk-container-id-1 pre{padding: 0;}#sk-container-id-1 div.sk-toggleable {background-color: white;}#sk-container-id-1 label.sk-toggleable__label {cursor: pointer;display: block;width: 100%;margin-bottom: 0;padding: 0.3em;box-sizing: border-box;text-align: center;}#sk-container-id-1 label.sk-toggleable__label-arrow:before {content: \"▸\";float: left;margin-right: 0.25em;color: #696969;}#sk-container-id-1 label.sk-toggleable__label-arrow:hover:before {color: black;}#sk-container-id-1 div.sk-estimator:hover label.sk-toggleable__label-arrow:before {color: black;}#sk-container-id-1 div.sk-toggleable__content {max-height: 0;max-width: 0;overflow: hidden;text-align: left;background-color: #f0f8ff;}#sk-container-id-1 div.sk-toggleable__content pre {margin: 0.2em;color: black;border-radius: 0.25em;background-color: #f0f8ff;}#sk-container-id-1 input.sk-toggleable__control:checked~div.sk-toggleable__content {max-height: 200px;max-width: 100%;overflow: auto;}#sk-container-id-1 input.sk-toggleable__control:checked~label.sk-toggleable__label-arrow:before {content: \"▾\";}#sk-container-id-1 div.sk-estimator input.sk-toggleable__control:checked~label.sk-toggleable__label {background-color: #d4ebff;}#sk-container-id-1 div.sk-label input.sk-toggleable__control:checked~label.sk-toggleable__label {background-color: #d4ebff;}#sk-container-id-1 input.sk-hidden--visually {border: 0;clip: rect(1px 1px 1px 1px);clip: rect(1px, 1px, 1px, 1px);height: 1px;margin: -1px;overflow: hidden;padding: 0;position: absolute;width: 1px;}#sk-container-id-1 div.sk-estimator {font-family: monospace;background-color: #f0f8ff;border: 1px dotted black;border-radius: 0.25em;box-sizing: border-box;margin-bottom: 0.5em;}#sk-container-id-1 div.sk-estimator:hover {background-color: #d4ebff;}#sk-container-id-1 div.sk-parallel-item::after {content: \"\";width: 100%;border-bottom: 1px solid gray;flex-grow: 1;}#sk-container-id-1 div.sk-label:hover label.sk-toggleable__label {background-color: #d4ebff;}#sk-container-id-1 div.sk-serial::before {content: \"\";position: absolute;border-left: 1px solid gray;box-sizing: border-box;top: 0;bottom: 0;left: 50%;z-index: 0;}#sk-container-id-1 div.sk-serial {display: flex;flex-direction: column;align-items: center;background-color: white;padding-right: 0.2em;padding-left: 0.2em;position: relative;}#sk-container-id-1 div.sk-item {position: relative;z-index: 1;}#sk-container-id-1 div.sk-parallel {display: flex;align-items: stretch;justify-content: center;background-color: white;position: relative;}#sk-container-id-1 div.sk-item::before, #sk-container-id-1 div.sk-parallel-item::before {content: \"\";position: absolute;border-left: 1px solid gray;box-sizing: border-box;top: 0;bottom: 0;left: 50%;z-index: -1;}#sk-container-id-1 div.sk-parallel-item {display: flex;flex-direction: column;z-index: 1;position: relative;background-color: white;}#sk-container-id-1 div.sk-parallel-item:first-child::after {align-self: flex-end;width: 50%;}#sk-container-id-1 div.sk-parallel-item:last-child::after {align-self: flex-start;width: 50%;}#sk-container-id-1 div.sk-parallel-item:only-child::after {width: 0;}#sk-container-id-1 div.sk-dashed-wrapped {border: 1px dashed gray;margin: 0 0.4em 0.5em 0.4em;box-sizing: border-box;padding-bottom: 0.4em;background-color: white;}#sk-container-id-1 div.sk-label label {font-family: monospace;font-weight: bold;display: inline-block;line-height: 1.2em;}#sk-container-id-1 div.sk-label-container {text-align: center;}#sk-container-id-1 div.sk-container {/* jupyter's `normalize.less` sets `[hidden] { display: none; }` but bootstrap.min.css set `[hidden] { display: none !important; }` so we also need the `!important` here to be able to override the default hidden behavior on the sphinx rendered scikit-learn.org. See: https://github.com/scikit-learn/scikit-learn/issues/21755 */display: inline-block !important;position: relative;}#sk-container-id-1 div.sk-text-repr-fallback {display: none;}</style><div id=\"sk-container-id-1\" class=\"sk-top-container\"><div class=\"sk-text-repr-fallback\"><pre>RandomForestRegressor()</pre><b>In a Jupyter environment, please rerun this cell to show the HTML representation or trust the notebook. <br />On GitHub, the HTML representation is unable to render, please try loading this page with nbviewer.org.</b></div><div class=\"sk-container\" hidden><div class=\"sk-item\"><div class=\"sk-estimator sk-toggleable\"><input class=\"sk-toggleable__control sk-hidden--visually\" id=\"sk-estimator-id-1\" type=\"checkbox\" checked><label for=\"sk-estimator-id-1\" class=\"sk-toggleable__label sk-toggleable__label-arrow\">RandomForestRegressor</label><div class=\"sk-toggleable__content\"><pre>RandomForestRegressor()</pre></div></div></div></div></div>"
      ],
      "text/plain": [
       "RandomForestRegressor()"
      ]
     },
     "execution_count": 33,
     "metadata": {},
     "output_type": "execute_result"
    }
   ],
   "source": [
    "# apply RandomForsetReg model and fit it.\n",
    "RF = RandomForestRegressor(n_estimators=100)\n",
    "RF.fit(X_train,Y_train)"
   ]
  },
  {
   "cell_type": "code",
   "execution_count": 34,
   "metadata": {},
   "outputs": [
    {
     "name": "stdout",
     "output_type": "stream",
     "text": [
      "The score of RandomForestRegressor Model are : 90.82115545987732\n"
     ]
    }
   ],
   "source": [
    "# showing the score of RandomForestReg model. \n",
    "print('The score of RandomForestRegressor Model are :',RF.score(X_train,Y_train)*100)"
   ]
  },
  {
   "cell_type": "code",
   "execution_count": 35,
   "metadata": {},
   "outputs": [
    {
     "name": "stdout",
     "output_type": "stream",
     "text": [
      "the score MAE are : 54368.07302668938\n",
      "the score of MSE are : 159961446095.97513\n",
      "the mean of cross val from 5 k-folds are:  0.6376653357253407\n"
     ]
    }
   ],
   "source": [
    "# apply Multipel matrix to acuurate the scoring of model using MAE,MSE,cross-validtion.\n",
    "y_pred = RF.predict(x).astype(\"int\")\n",
    "cvm = cross_val_score(RF,X_train,Y_train,cv=5).mean()\n",
    "print('the score MAE are :',mean_absolute_error(y,y_pred))\n",
    "print('the score of MSE are :',mean_squared_error(y,y_pred))\n",
    "print(\"the mean of cross val from 5 k-folds are: \",cvm)"
   ]
  }
 ],
 "metadata": {
  "kernelspec": {
   "display_name": "Python 3",
   "language": "python",
   "name": "python3"
  },
  "language_info": {
   "codemirror_mode": {
    "name": "ipython",
    "version": 3
   },
   "file_extension": ".py",
   "mimetype": "text/x-python",
   "name": "python",
   "nbconvert_exporter": "python",
   "pygments_lexer": "ipython3",
   "version": "3.10.5"
  }
 },
 "nbformat": 4,
 "nbformat_minor": 2
}
