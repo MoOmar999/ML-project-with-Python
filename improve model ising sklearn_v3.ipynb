{
 "cells": [
  {
   "cell_type": "code",
   "execution_count": 1,
   "metadata": {},
   "outputs": [],
   "source": [
    "# import the library\n",
    "import pandas as pd\n",
    "import numpy as np\n",
    "from sklearn import preprocessing\n",
    "from sklearn.model_selection import train_test_split\n",
    "from sklearn.linear_model import LinearRegression\n",
    "from sklearn.tree import DecisionTreeRegressor\n",
    "from sklearn.svm import SVR\n",
    "import matplotlib.pyplot as plt\n",
    "import seaborn as sea\n"
   ]
  },
  {
   "cell_type": "code",
   "execution_count": 2,
   "metadata": {},
   "outputs": [],
   "source": [
    "# read the data using read_excel fun\n",
    "Data = pd.read_excel(\"C:/Users/nxt-1/Desktop/Dataset/laptopData_after_cleaning.xlsx\")"
   ]
  },
  {
   "cell_type": "code",
   "execution_count": 3,
   "metadata": {},
   "outputs": [
    {
     "data": {
      "text/html": [
       "<div>\n",
       "<style scoped>\n",
       "    .dataframe tbody tr th:only-of-type {\n",
       "        vertical-align: middle;\n",
       "    }\n",
       "\n",
       "    .dataframe tbody tr th {\n",
       "        vertical-align: top;\n",
       "    }\n",
       "\n",
       "    .dataframe thead th {\n",
       "        text-align: right;\n",
       "    }\n",
       "</style>\n",
       "<table border=\"1\" class=\"dataframe\">\n",
       "  <thead>\n",
       "    <tr style=\"text-align: right;\">\n",
       "      <th></th>\n",
       "      <th>Company</th>\n",
       "      <th>TypeName</th>\n",
       "      <th>Inches</th>\n",
       "      <th>ScreenResolution</th>\n",
       "      <th>Cpu</th>\n",
       "      <th>Ram</th>\n",
       "      <th>Memory</th>\n",
       "      <th>Gpu</th>\n",
       "      <th>OpSys</th>\n",
       "      <th>Weight</th>\n",
       "      <th>Price</th>\n",
       "    </tr>\n",
       "    <tr>\n",
       "      <th>Labtop_ID</th>\n",
       "      <th></th>\n",
       "      <th></th>\n",
       "      <th></th>\n",
       "      <th></th>\n",
       "      <th></th>\n",
       "      <th></th>\n",
       "      <th></th>\n",
       "      <th></th>\n",
       "      <th></th>\n",
       "      <th></th>\n",
       "      <th></th>\n",
       "    </tr>\n",
       "  </thead>\n",
       "  <tbody>\n",
       "    <tr>\n",
       "      <th>0.0</th>\n",
       "      <td>Apple</td>\n",
       "      <td>Ultrabook</td>\n",
       "      <td>13.3</td>\n",
       "      <td>IPS Panel Retina Display 2560x1600</td>\n",
       "      <td>Intel Core i5 2.3GHz</td>\n",
       "      <td>8.0</td>\n",
       "      <td>128GB SSD</td>\n",
       "      <td>Intel Iris Plus Graphics 640</td>\n",
       "      <td>macOS</td>\n",
       "      <td>1.37</td>\n",
       "      <td>71378.6832</td>\n",
       "    </tr>\n",
       "    <tr>\n",
       "      <th>1.0</th>\n",
       "      <td>Apple</td>\n",
       "      <td>Ultrabook</td>\n",
       "      <td>13.3</td>\n",
       "      <td>1440x900</td>\n",
       "      <td>Intel Core i5 1.8GHz</td>\n",
       "      <td>8.0</td>\n",
       "      <td>128GB Flash Storage</td>\n",
       "      <td>Intel HD Graphics 6000</td>\n",
       "      <td>macOS</td>\n",
       "      <td>1.34</td>\n",
       "      <td>47895.5232</td>\n",
       "    </tr>\n",
       "    <tr>\n",
       "      <th>2.0</th>\n",
       "      <td>HP</td>\n",
       "      <td>Notebook</td>\n",
       "      <td>15.6</td>\n",
       "      <td>Full HD 1920x1080</td>\n",
       "      <td>Intel Core i5 7200U 2.5GHz</td>\n",
       "      <td>8.0</td>\n",
       "      <td>256GB SSD</td>\n",
       "      <td>Intel HD Graphics 620</td>\n",
       "      <td>No OS</td>\n",
       "      <td>1.86</td>\n",
       "      <td>30636.0000</td>\n",
       "    </tr>\n",
       "    <tr>\n",
       "      <th>3.0</th>\n",
       "      <td>Apple</td>\n",
       "      <td>Ultrabook</td>\n",
       "      <td>15.4</td>\n",
       "      <td>IPS Panel Retina Display 2880x1800</td>\n",
       "      <td>Intel Core i7 2.7GHz</td>\n",
       "      <td>16.0</td>\n",
       "      <td>512GB SSD</td>\n",
       "      <td>AMD Radeon Pro 455</td>\n",
       "      <td>macOS</td>\n",
       "      <td>1.83</td>\n",
       "      <td>135195.3360</td>\n",
       "    </tr>\n",
       "    <tr>\n",
       "      <th>4.0</th>\n",
       "      <td>Apple</td>\n",
       "      <td>Ultrabook</td>\n",
       "      <td>13.3</td>\n",
       "      <td>IPS Panel Retina Display 2560x1600</td>\n",
       "      <td>Intel Core i5 3.1GHz</td>\n",
       "      <td>8.0</td>\n",
       "      <td>256GB SSD</td>\n",
       "      <td>Intel Iris Plus Graphics 650</td>\n",
       "      <td>macOS</td>\n",
       "      <td>1.37</td>\n",
       "      <td>96095.8080</td>\n",
       "    </tr>\n",
       "    <tr>\n",
       "      <th>...</th>\n",
       "      <td>...</td>\n",
       "      <td>...</td>\n",
       "      <td>...</td>\n",
       "      <td>...</td>\n",
       "      <td>...</td>\n",
       "      <td>...</td>\n",
       "      <td>...</td>\n",
       "      <td>...</td>\n",
       "      <td>...</td>\n",
       "      <td>...</td>\n",
       "      <td>...</td>\n",
       "    </tr>\n",
       "    <tr>\n",
       "      <th>1298.0</th>\n",
       "      <td>Lenovo</td>\n",
       "      <td>2 in 1 Convertible</td>\n",
       "      <td>14.0</td>\n",
       "      <td>IPS Panel Full HD / Touchscreen 1920x1080</td>\n",
       "      <td>Intel Core i7 6500U 2.5GHz</td>\n",
       "      <td>4.0</td>\n",
       "      <td>128GB SSD</td>\n",
       "      <td>Intel HD Graphics 520</td>\n",
       "      <td>Windows 10</td>\n",
       "      <td>1.80</td>\n",
       "      <td>33992.6400</td>\n",
       "    </tr>\n",
       "    <tr>\n",
       "      <th>1299.0</th>\n",
       "      <td>Lenovo</td>\n",
       "      <td>2 in 1 Convertible</td>\n",
       "      <td>13.3</td>\n",
       "      <td>IPS Panel Quad HD+ / Touchscreen 3200x1800</td>\n",
       "      <td>Intel Core i7 6500U 2.5GHz</td>\n",
       "      <td>16.0</td>\n",
       "      <td>512GB SSD</td>\n",
       "      <td>Intel HD Graphics 520</td>\n",
       "      <td>Windows 10</td>\n",
       "      <td>1.30</td>\n",
       "      <td>79866.7200</td>\n",
       "    </tr>\n",
       "    <tr>\n",
       "      <th>1300.0</th>\n",
       "      <td>Lenovo</td>\n",
       "      <td>Notebook</td>\n",
       "      <td>14.0</td>\n",
       "      <td>1366x768</td>\n",
       "      <td>Intel Celeron Dual Core N3050 1.6GHz</td>\n",
       "      <td>2.0</td>\n",
       "      <td>64GB Flash Storage</td>\n",
       "      <td>Intel HD Graphics</td>\n",
       "      <td>Windows 10</td>\n",
       "      <td>1.50</td>\n",
       "      <td>12201.1200</td>\n",
       "    </tr>\n",
       "    <tr>\n",
       "      <th>1301.0</th>\n",
       "      <td>HP</td>\n",
       "      <td>Notebook</td>\n",
       "      <td>15.6</td>\n",
       "      <td>1366x768</td>\n",
       "      <td>Intel Core i7 6500U 2.5GHz</td>\n",
       "      <td>6.0</td>\n",
       "      <td>1TB HDD</td>\n",
       "      <td>AMD Radeon R5 M330</td>\n",
       "      <td>Windows 10</td>\n",
       "      <td>2.19</td>\n",
       "      <td>40705.9200</td>\n",
       "    </tr>\n",
       "    <tr>\n",
       "      <th>1302.0</th>\n",
       "      <td>Asus</td>\n",
       "      <td>Notebook</td>\n",
       "      <td>15.6</td>\n",
       "      <td>1366x768</td>\n",
       "      <td>Intel Celeron Dual Core N3050 1.6GHz</td>\n",
       "      <td>4.0</td>\n",
       "      <td>500GB HDD</td>\n",
       "      <td>Intel HD Graphics</td>\n",
       "      <td>Windows 10</td>\n",
       "      <td>2.20</td>\n",
       "      <td>19660.3200</td>\n",
       "    </tr>\n",
       "  </tbody>\n",
       "</table>\n",
       "<p>1303 rows × 11 columns</p>\n",
       "</div>"
      ],
      "text/plain": [
       "          Company            TypeName  Inches  \\\n",
       "Labtop_ID                                       \n",
       "0.0         Apple           Ultrabook    13.3   \n",
       "1.0         Apple           Ultrabook    13.3   \n",
       "2.0            HP            Notebook    15.6   \n",
       "3.0         Apple           Ultrabook    15.4   \n",
       "4.0         Apple           Ultrabook    13.3   \n",
       "...           ...                 ...     ...   \n",
       "1298.0     Lenovo  2 in 1 Convertible    14.0   \n",
       "1299.0     Lenovo  2 in 1 Convertible    13.3   \n",
       "1300.0     Lenovo            Notebook    14.0   \n",
       "1301.0         HP            Notebook    15.6   \n",
       "1302.0       Asus            Notebook    15.6   \n",
       "\n",
       "                                     ScreenResolution  \\\n",
       "Labtop_ID                                               \n",
       "0.0                IPS Panel Retina Display 2560x1600   \n",
       "1.0                                          1440x900   \n",
       "2.0                                 Full HD 1920x1080   \n",
       "3.0                IPS Panel Retina Display 2880x1800   \n",
       "4.0                IPS Panel Retina Display 2560x1600   \n",
       "...                                               ...   \n",
       "1298.0      IPS Panel Full HD / Touchscreen 1920x1080   \n",
       "1299.0     IPS Panel Quad HD+ / Touchscreen 3200x1800   \n",
       "1300.0                                       1366x768   \n",
       "1301.0                                       1366x768   \n",
       "1302.0                                       1366x768   \n",
       "\n",
       "                                            Cpu   Ram               Memory  \\\n",
       "Labtop_ID                                                                    \n",
       "0.0                        Intel Core i5 2.3GHz   8.0            128GB SSD   \n",
       "1.0                        Intel Core i5 1.8GHz   8.0  128GB Flash Storage   \n",
       "2.0                  Intel Core i5 7200U 2.5GHz   8.0            256GB SSD   \n",
       "3.0                        Intel Core i7 2.7GHz  16.0            512GB SSD   \n",
       "4.0                        Intel Core i5 3.1GHz   8.0            256GB SSD   \n",
       "...                                         ...   ...                  ...   \n",
       "1298.0               Intel Core i7 6500U 2.5GHz   4.0            128GB SSD   \n",
       "1299.0               Intel Core i7 6500U 2.5GHz  16.0            512GB SSD   \n",
       "1300.0     Intel Celeron Dual Core N3050 1.6GHz   2.0   64GB Flash Storage   \n",
       "1301.0               Intel Core i7 6500U 2.5GHz   6.0              1TB HDD   \n",
       "1302.0     Intel Celeron Dual Core N3050 1.6GHz   4.0            500GB HDD   \n",
       "\n",
       "                                    Gpu       OpSys  Weight        Price  \n",
       "Labtop_ID                                                                 \n",
       "0.0        Intel Iris Plus Graphics 640       macOS    1.37   71378.6832  \n",
       "1.0              Intel HD Graphics 6000       macOS    1.34   47895.5232  \n",
       "2.0               Intel HD Graphics 620       No OS    1.86   30636.0000  \n",
       "3.0                  AMD Radeon Pro 455       macOS    1.83  135195.3360  \n",
       "4.0        Intel Iris Plus Graphics 650       macOS    1.37   96095.8080  \n",
       "...                                 ...         ...     ...          ...  \n",
       "1298.0            Intel HD Graphics 520  Windows 10    1.80   33992.6400  \n",
       "1299.0            Intel HD Graphics 520  Windows 10    1.30   79866.7200  \n",
       "1300.0                Intel HD Graphics  Windows 10    1.50   12201.1200  \n",
       "1301.0               AMD Radeon R5 M330  Windows 10    2.19   40705.9200  \n",
       "1302.0                Intel HD Graphics  Windows 10    2.20   19660.3200  \n",
       "\n",
       "[1303 rows x 11 columns]"
      ]
     },
     "execution_count": 3,
     "metadata": {},
     "output_type": "execute_result"
    }
   ],
   "source": [
    "# set Labtop_ID as index to imporve the search performance\n",
    "Data.set_index(\"Labtop_ID\")"
   ]
  },
  {
   "cell_type": "code",
   "execution_count": 4,
   "metadata": {},
   "outputs": [
    {
     "name": "stdout",
     "output_type": "stream",
     "text": [
      "Labtop_ID : 1274   count unique value record\n",
      "Company : 20   count unique value record\n",
      "TypeName : 7   count unique value record\n",
      "Inches : 25   count unique value record\n",
      "ScreenResolution : 41   count unique value record\n",
      "Cpu : 119   count unique value record\n",
      "Ram : 11   count unique value record\n",
      "Memory : 41   count unique value record\n",
      "Gpu : 107   count unique value record\n",
      "OpSys : 10   count unique value record\n",
      "Weight : 181   count unique value record\n",
      "Price : 778   count unique value record\n"
     ]
    }
   ],
   "source": [
    "for col in Data.columns:\n",
    "        print(col , \":\", len(Data[col].unique()), \"  count unique value record\")"
   ]
  },
  {
   "cell_type": "code",
   "execution_count": 5,
   "metadata": {},
   "outputs": [],
   "source": [
    "company_unique  = Data[\"Company\"].unique()\n",
    "_unique = Data[\"TypeName\"].unique()\n",
    "Cpu_unique = Data[\"Cpu\"].unique()"
   ]
  },
  {
   "cell_type": "code",
   "execution_count": 7,
   "metadata": {},
   "outputs": [
    {
     "data": {
      "text/plain": [
       "20"
      ]
     },
     "execution_count": 7,
     "metadata": {},
     "output_type": "execute_result"
    }
   ],
   "source": [
    "len(company_unique)"
   ]
  },
  {
   "cell_type": "code",
   "execution_count": 2,
   "metadata": {},
   "outputs": [],
   "source": [
    "test = pd.DataFrame(data={\"a\" : [1,2,3,4,5], \"b\" : [6,7,8,9,10], \"c\" : [11,12,13,14,15]})"
   ]
  },
  {
   "cell_type": "code",
   "execution_count": 26,
   "metadata": {},
   "outputs": [
    {
     "ename": "TypeError",
     "evalue": "'method' object is not subscriptable",
     "output_type": "error",
     "traceback": [
      "\u001b[1;31m---------------------------------------------------------------------------\u001b[0m",
      "\u001b[1;31mTypeError\u001b[0m                                 Traceback (most recent call last)",
      "\u001b[1;32mc:\\Users\\nxt-1\\Desktop\\jupyter notebook\\improve model using sklearn\\improve model ising sklearn_v3.ipynb Cell 8\u001b[0m line \u001b[0;36m<cell line: 1>\u001b[1;34m()\u001b[0m\n\u001b[1;32m----> <a href='vscode-notebook-cell:/c%3A/Users/nxt-1/Desktop/jupyter%20notebook/improve%20model%20using%20sklearn/improve%20model%20ising%20sklearn_v3.ipynb#X56sZmlsZQ%3D%3D?line=0'>1</a>\u001b[0m test\u001b[39m.\u001b[39;49mitertuples[\u001b[39m1\u001b[39;49m]\n",
      "\u001b[1;31mTypeError\u001b[0m: 'method' object is not subscriptable"
     ]
    }
   ],
   "source": [
    "test.itertuples[1]"
   ]
  },
  {
   "cell_type": "code",
   "execution_count": 21,
   "metadata": {},
   "outputs": [
    {
     "name": "stdout",
     "output_type": "stream",
     "text": [
      "1 6 11\n",
      "2 7 12\n",
      "3 8 13\n",
      "4 9 14\n",
      "5 10 15\n"
     ]
    }
   ],
   "source": [
    "# the diffrence between iloc is useful with number index and loc using with specfic the object indexing\n",
    "for i in test.index:\n",
    "    print(test.loc[i,'a'],test.loc[i,'b'],test.loc[i,'c'])"
   ]
  },
  {
   "cell_type": "code",
   "execution_count": 33,
   "metadata": {},
   "outputs": [
    {
     "name": "stdout",
     "output_type": "stream",
     "text": [
      "Pandas(Index=0, a=1, b=6, c=11)\n",
      "Pandas(Index=1, a=2, b=7, c=12)\n",
      "Pandas(Index=2, a=3, b=8, c=13)\n",
      "Pandas(Index=3, a=4, b=9, c=14)\n",
      "Pandas(Index=4, a=5, b=10, c=15)\n"
     ]
    }
   ],
   "source": [
    "for i in test.itertuples(\"a\"):\n",
    "    print(i)"
   ]
  },
  {
   "cell_type": "code",
   "execution_count": 31,
   "metadata": {},
   "outputs": [
    {
     "name": "stdout",
     "output_type": "stream",
     "text": [
      "1\n",
      "7\n",
      "13\n"
     ]
    },
    {
     "ename": "IndexError",
     "evalue": "index 3 is out of bounds for axis 0 with size 3",
     "output_type": "error",
     "traceback": [
      "\u001b[1;31m---------------------------------------------------------------------------\u001b[0m",
      "\u001b[1;31mIndexError\u001b[0m                                Traceback (most recent call last)",
      "\u001b[1;32mc:\\Users\\nxt-1\\Desktop\\jupyter notebook\\improve model using sklearn\\improve model ising sklearn_v3.ipynb Cell 9\u001b[0m line \u001b[0;36m<cell line: 1>\u001b[1;34m()\u001b[0m\n\u001b[0;32m      <a href='vscode-notebook-cell:/c%3A/Users/nxt-1/Desktop/jupyter%20notebook/improve%20model%20using%20sklearn/improve%20model%20ising%20sklearn_v3.ipynb#X60sZmlsZQ%3D%3D?line=0'>1</a>\u001b[0m \u001b[39mfor\u001b[39;00m i \u001b[39min\u001b[39;00m \u001b[39mrange\u001b[39m(\u001b[39mlen\u001b[39m(test)):\n\u001b[1;32m----> <a href='vscode-notebook-cell:/c%3A/Users/nxt-1/Desktop/jupyter%20notebook/improve%20model%20using%20sklearn/improve%20model%20ising%20sklearn_v3.ipynb#X60sZmlsZQ%3D%3D?line=1'>2</a>\u001b[0m     \u001b[39mprint\u001b[39m(test\u001b[39m.\u001b[39;49miloc[i][i])\n",
      "File \u001b[1;32mc:\\Users\\nxt-1\\AppData\\Local\\Programs\\Python\\Python310\\lib\\site-packages\\pandas\\core\\series.py:1004\u001b[0m, in \u001b[0;36mSeries.__getitem__\u001b[1;34m(self, key)\u001b[0m\n\u001b[0;32m   1001\u001b[0m     key \u001b[39m=\u001b[39m unpack_1tuple(key)\n\u001b[0;32m   1003\u001b[0m \u001b[39mif\u001b[39;00m is_integer(key) \u001b[39mand\u001b[39;00m \u001b[39mself\u001b[39m\u001b[39m.\u001b[39mindex\u001b[39m.\u001b[39m_should_fallback_to_positional:\n\u001b[1;32m-> 1004\u001b[0m     \u001b[39mreturn\u001b[39;00m \u001b[39mself\u001b[39;49m\u001b[39m.\u001b[39;49m_values[key]\n\u001b[0;32m   1006\u001b[0m \u001b[39melif\u001b[39;00m key_is_scalar:\n\u001b[0;32m   1007\u001b[0m     \u001b[39mreturn\u001b[39;00m \u001b[39mself\u001b[39m\u001b[39m.\u001b[39m_get_value(key)\n",
      "\u001b[1;31mIndexError\u001b[0m: index 3 is out of bounds for axis 0 with size 3"
     ]
    }
   ],
   "source": []
  },
  {
   "cell_type": "code",
   "execution_count": 8,
   "metadata": {},
   "outputs": [],
   "source": [
    "for i in range(len(company_unique)):\n",
    "    s = np.random.randint(0,len(company_unique),size=100)\n",
    "    Company_list = np.array(company_unique[s]).ravel()"
   ]
  },
  {
   "cell_type": "code",
   "execution_count": 9,
   "metadata": {},
   "outputs": [],
   "source": [
    "for i in range(len(TypeName_unique)):\n",
    "    s = np.random.randint(0,len(TypeName_unique),size=100)\n",
    "    TypeName_list = np.array(TypeName_unique[s]).ravel()"
   ]
  },
  {
   "cell_type": "code",
   "execution_count": 10,
   "metadata": {},
   "outputs": [],
   "source": [
    "for i in range(len(Cpu_unique)):\n",
    "    s = np.random.randint(0,len(Cpu_unique),size=100)\n",
    "    CPU_list = np.array(Cpu_unique[s]).ravel()"
   ]
  },
  {
   "cell_type": "code",
   "execution_count": 5,
   "metadata": {},
   "outputs": [
    {
     "data": {
      "text/plain": [
       "Labtop_ID           30\n",
       "Company             30\n",
       "TypeName            30\n",
       "Inches              31\n",
       "ScreenResolution    30\n",
       "Cpu                 30\n",
       "Ram                 30\n",
       "Memory              30\n",
       "Gpu                 30\n",
       "OpSys               30\n",
       "Weight              31\n",
       "Price               30\n",
       "dtype: int64"
      ]
     },
     "execution_count": 5,
     "metadata": {},
     "output_type": "execute_result"
    }
   ],
   "source": [
    "# check for any null value\n",
    "Data.isnull().sum()"
   ]
  },
  {
   "cell_type": "code",
   "execution_count": 6,
   "metadata": {},
   "outputs": [],
   "source": [
    "# apply null value fun to drop \n",
    "Data.dropna(inplace=True)"
   ]
  },
  {
   "cell_type": "code",
   "execution_count": 7,
   "metadata": {},
   "outputs": [
    {
     "data": {
      "text/plain": [
       "Labtop_ID           0\n",
       "Company             0\n",
       "TypeName            0\n",
       "Inches              0\n",
       "ScreenResolution    0\n",
       "Cpu                 0\n",
       "Ram                 0\n",
       "Memory              0\n",
       "Gpu                 0\n",
       "OpSys               0\n",
       "Weight              0\n",
       "Price               0\n",
       "dtype: int64"
      ]
     },
     "execution_count": 7,
     "metadata": {},
     "output_type": "execute_result"
    }
   ],
   "source": [
    "# check for any null value after apply fun\n",
    "Data.isnull().sum()"
   ]
  },
  {
   "cell_type": "code",
   "execution_count": 8,
   "metadata": {},
   "outputs": [
    {
     "data": {
      "text/plain": [
       "array(['Apple', 'HP', 'Acer', 'Asus', 'Dell', 'Lenovo', 'Chuwi', 'MSI',\n",
       "       'Microsoft', 'Toshiba', 'Huawei', 'Xiaomi', 'Vero', 'Razer',\n",
       "       'Mediacom', 'Samsung', 'Google', 'Fujitsu', 'LG'], dtype=object)"
      ]
     },
     "execution_count": 8,
     "metadata": {},
     "output_type": "execute_result"
    }
   ],
   "source": [
    "# to see all unique values of Comapny column\n",
    "Data[\"Company\"].unique()"
   ]
  },
  {
   "cell_type": "code",
   "execution_count": 9,
   "metadata": {},
   "outputs": [],
   "source": [
    "# Create LabelEncoder object to transform the category columns into numric columns\n",
    "Label = preprocessing.LabelEncoder()"
   ]
  },
  {
   "cell_type": "code",
   "execution_count": 10,
   "metadata": {},
   "outputs": [],
   "source": [
    "# find specific word in columns\n",
    "i3 = np.array(Data[\"Cpu\"][Data[\"Cpu\"].str.contains(\"i3\")])\n",
    "i5 = np.array(Data[\"Cpu\"][Data[\"Cpu\"].str.contains(\"i5\")])\n",
    "i7 = np.array(Data[\"Cpu\"][Data[\"Cpu\"].str.contains(\"i7\")])"
   ]
  },
  {
   "cell_type": "code",
   "execution_count": 11,
   "metadata": {},
   "outputs": [],
   "source": [
    "Data[\"Cpu\"].replace(i3,\"i3\",inplace=True)\n",
    "Data[\"Cpu\"].replace(i5,\"i5\",inplace=True)\n",
    "Data[\"Cpu\"].replace(i7,\"i7\",inplace=True)"
   ]
  },
  {
   "cell_type": "code",
   "execution_count": 12,
   "metadata": {
    "vscode": {
     "languageId": "powershell"
    }
   },
   "outputs": [],
   "source": [
    "i9 = ['AMD A9-Series 9420 3GHz',\n",
    "       'Intel Core M m3 1.2GHz', 'AMD E-Series E2-9000e 1.5GHz',\n",
    "       'Intel Atom x5-Z8300 1.44GHz', 'AMD E-Series E2-6110 1.5GHz',\n",
    "       'AMD A6-Series 9220 2.5GHz',\n",
    "       'Intel Celeron Dual Core N3350 1.1GHz', 'AMD Ryzen 1700 3GHz',\n",
    "       'Intel Pentium Quad Core N4200 1.1GHz',\n",
    "       'Intel Celeron Dual Core N3060 1.6GHz', 'AMD FX 9830P 3GHz',\n",
    "       'AMD E-Series 6110 1.5GHz', 'Intel Core M 6Y75 1.2GHz',\n",
    "       'AMD A6-Series 9220 2.9GHz', 'Intel Xeon E3-1505M V6 3GHz',\n",
    "       'AMD E-Series 9000e 1.5GHz', 'AMD A10-Series A10-9620P 2.5GHz',\n",
    "       'AMD A6-Series A6-9220 2.5GHz',\n",
    "       'Intel Celeron Dual Core 3205U 1.5GHz',\n",
    "       'AMD A10-Series 9600P 2.4GHz', 'AMD A8-Series 7410 2.2GHz',\n",
    "       'Intel Celeron Dual Core 3855U 1.6GHz',\n",
    "       'Intel Pentium Quad Core N3710 1.6GHz',\n",
    "       'AMD A12-Series 9720P 2.7GHz', 'AMD A12-Series 9720P 3.6GHz',\n",
    "       'Intel Celeron Quad Core N3450 1.1GHz',\n",
    "       'Intel Celeron Dual Core N3060 1.60GHz', 'AMD Ryzen 1600 3.2GHz',\n",
    "       'Intel Core M m3-7Y30 2.2GHz', 'Intel Atom x5-Z8350 1.44GHz',\n",
    "       'AMD A10-Series 9620P 2.5GHz', 'AMD E-Series 7110 1.8GHz',\n",
    "       'Intel Celeron Dual Core N3350 2.0GHz',\n",
    "       'AMD A9-Series A9-9420 3GHz', 'Intel Core M 7Y30 1.0GHz',\n",
    "       'Intel Xeon E3-1535M v6 3.1GHz',\n",
    "       'Intel Celeron Quad Core N3160 1.6GHz',\n",
    "       'AMD E-Series E2-9000 2.2GHz',\n",
    "       'Intel Celeron Dual Core N3050 1.6GHz',\n",
    "       'Intel Core M M3-6Y30 0.9GHz', 'AMD A9-Series 9420 2.9GHz',\n",
    "       'AMD A6-Series 7310 2GHz', 'Intel Atom Z8350 1.92GHz',\n",
    "       'Intel Xeon E3-1535M v5 2.9GHz',\n",
    "       'Intel Pentium Dual Core N4200 1.1GHz',\n",
    "       'Intel Celeron Quad Core N3710 1.6GHz', 'Intel Core M 1.2GHz',\n",
    "       'AMD A12-Series 9700P 2.5GHz',\n",
    "       'Intel Pentium Dual Core 4405U 2.1GHz',\n",
    "       'AMD A4-Series 7210 2.2GHz', 'Intel Core M m7-6Y75 1.2GHz',\n",
    "       'AMD FX 8800P 2.1GHz', 'Intel Core M M7-6Y75 1.2GHz',\n",
    "       'Intel Atom X5-Z8350 1.44GHz', 'Intel Core M 1.1GHz',\n",
    "       'Intel Atom x5-Z8550 1.44GHz',\n",
    "       'Intel Pentium Dual Core 4405Y 1.5GHz',\n",
    "       'Intel Pentium Quad Core N3700 1.6GHz', 'Intel Core M 6Y54 1.1GHz',\n",
    "       'Intel Celeron Dual Core N3350 2GHz',\n",
    "       'Samsung Cortex A72&A53 2.0GHz', 'AMD E-Series 9000 2.2GHz',\n",
    "       'Intel Core M 6Y30 0.9GHz', 'AMD A9-Series 9410 2.9GHz']"
   ]
  },
  {
   "cell_type": "code",
   "execution_count": 13,
   "metadata": {
    "vscode": {
     "languageId": "powershell"
    }
   },
   "outputs": [],
   "source": [
    "       Data[\"Cpu\"].replace(i9,\"i9\",inplace=True)"
   ]
  },
  {
   "cell_type": "code",
   "execution_count": 14,
   "metadata": {},
   "outputs": [
    {
     "data": {
      "text/plain": [
       "Cpu\n",
       "i7    513\n",
       "i5    410\n",
       "i9    214\n",
       "i3    134\n",
       "Name: count, dtype: int64"
      ]
     },
     "execution_count": 14,
     "metadata": {},
     "output_type": "execute_result"
    }
   ],
   "source": [
    "# count for each row in new column that i created (CPU)\n",
    "Data[\"Cpu\"].value_counts().sort_values(ascending=False)"
   ]
  },
  {
   "cell_type": "code",
   "execution_count": 16,
   "metadata": {},
   "outputs": [
    {
     "data": {
      "text/plain": [
       "count    1271.000000\n",
       "mean       15.132258\n",
       "std         1.954530\n",
       "min        10.100000\n",
       "25%        14.000000\n",
       "50%        15.600000\n",
       "75%        15.600000\n",
       "max        35.600000\n",
       "Name: Inches, dtype: float64"
      ]
     },
     "execution_count": 16,
     "metadata": {},
     "output_type": "execute_result"
    }
   ],
   "source": [
    "# to see the distibution of data\n",
    "Data[\"Inches\"].describe()"
   ]
  },
  {
   "cell_type": "code",
   "execution_count": 25,
   "metadata": {},
   "outputs": [],
   "source": [
    "# take a copy of Inches and append in a test column.\n",
    "Inches_Size = np.array(Data[\"Inches\"])"
   ]
  },
  {
   "cell_type": "code",
   "execution_count": 26,
   "metadata": {},
   "outputs": [],
   "source": [
    "# created bins and label to convert the Inches column from numric into category using pd.cut funcation \n",
    "bins = [0,10,15,35]\n",
    "lable = [\"Small-Size\",\"Mid-Size\",\"Large-Size\"]"
   ]
  },
  {
   "cell_type": "code",
   "execution_count": 27,
   "metadata": {},
   "outputs": [],
   "source": [
    "# apply function \n",
    "Inches_Size = pd.cut(Inches_Size,bins=bins,labels=lable)"
   ]
  },
  {
   "cell_type": "code",
   "execution_count": 28,
   "metadata": {},
   "outputs": [],
   "source": [
    "# named the new var as Inches-Size\n",
    "Data[\"Inches-Size\"] = Inches_Size"
   ]
  },
  {
   "cell_type": "code",
   "execution_count": 34,
   "metadata": {},
   "outputs": [
    {
     "data": {
      "text/plain": [
       "<AxesSubplot: xlabel='Inches-Size'>"
      ]
     },
     "execution_count": 34,
     "metadata": {},
     "output_type": "execute_result"
    },
    {
     "data": {
      "image/png": "[encoded data removed]",
      "text/plain": [
       "<Figure size 432x288 with 1 Axes>"
      ]
     },
     "metadata": {
      "needs_background": "light"
     },
     "output_type": "display_data"
    }
   ],
   "source": [
    "# value count for Lable_Inches and plot at as bar chart\n",
    "Data[\"Inches-Size\"].value_counts().sort_values(ascending=False).plot(kind=\"bar\",ylim=[0,1000])"
   ]
  },
  {
   "cell_type": "code",
   "execution_count": 35,
   "metadata": {},
   "outputs": [],
   "source": [
    "# convert the category columns into numric columns so can the machine learning models understand the data\n",
    "Lable_Cpu_type = Label.fit_transform(Data[\"Cpu\"])\n",
    "Lable_Company = Label.fit_transform(Data[\"Company\"])\n",
    "Lable_TypeName = Label.fit_transform(Data[\"TypeName\"])\n",
    "Lable_OpSys = Label.fit_transform(Data[\"OpSys\"])\n",
    "Lable_Inches = Label.fit_transform(Data[\"Inches-Size\"])\n",
    "# add my new four columns to my data \n",
    "Data[\"Lable_Cpu_type\"] = Lable_Cpu_type \n",
    "Data [\"Lable_Company\"] = Lable_Company\n",
    "Data[\"Lable_OpSys\"] = Lable_OpSys\n",
    "Data[\"Lable_TypeName\"] = Lable_TypeName\n",
    "Data[\"Lable_Inches\"] = Lable_Inches"
   ]
  },
  {
   "cell_type": "code",
   "execution_count": 36,
   "metadata": {},
   "outputs": [],
   "source": [
    "# Divide the data into X column (independet var) and y for (dependet var)\n",
    "Features = [\"Lable_Company\",\"Lable_TypeName\",\"Lable_Cpu_type\",\"Lable_OpSys\",\"Weight\",\"Ram\",\"Inches\",\"Lable_Inches\"]\n",
    "x = Data[Features]\n",
    "y = Data[\"Price\"]"
   ]
  },
  {
   "cell_type": "code",
   "execution_count": 32,
   "metadata": {},
   "outputs": [
    {
     "data": {
      "text/html": [
       "<div>\n",
       "<style scoped>\n",
       "    .dataframe tbody tr th:only-of-type {\n",
       "        vertical-align: middle;\n",
       "    }\n",
       "\n",
       "    .dataframe tbody tr th {\n",
       "        vertical-align: top;\n",
       "    }\n",
       "\n",
       "    .dataframe thead th {\n",
       "        text-align: right;\n",
       "    }\n",
       "</style>\n",
       "<table border=\"1\" class=\"dataframe\">\n",
       "  <thead>\n",
       "    <tr style=\"text-align: right;\">\n",
       "      <th></th>\n",
       "      <th>Lable_Company</th>\n",
       "      <th>Lable_TypeName</th>\n",
       "      <th>Lable_Cpu_type</th>\n",
       "      <th>Lable_OpSys</th>\n",
       "      <th>Weight</th>\n",
       "      <th>Ram</th>\n",
       "      <th>Inches</th>\n",
       "      <th>Lable_Inches</th>\n",
       "    </tr>\n",
       "  </thead>\n",
       "  <tbody>\n",
       "    <tr>\n",
       "      <th>Lable_Company</th>\n",
       "      <td>1.000000</td>\n",
       "      <td>-0.006335</td>\n",
       "      <td>-0.020617</td>\n",
       "      <td>0.140182</td>\n",
       "      <td>-0.121868</td>\n",
       "      <td>0.047084</td>\n",
       "      <td>-0.043164</td>\n",
       "      <td>0.143253</td>\n",
       "    </tr>\n",
       "    <tr>\n",
       "      <th>Lable_TypeName</th>\n",
       "      <td>-0.006335</td>\n",
       "      <td>1.000000</td>\n",
       "      <td>-0.089878</td>\n",
       "      <td>0.081054</td>\n",
       "      <td>-0.207945</td>\n",
       "      <td>-0.200407</td>\n",
       "      <td>-0.060210</td>\n",
       "      <td>0.054227</td>\n",
       "    </tr>\n",
       "    <tr>\n",
       "      <th>Lable_Cpu_type</th>\n",
       "      <td>-0.020617</td>\n",
       "      <td>-0.089878</td>\n",
       "      <td>1.000000</td>\n",
       "      <td>-0.090317</td>\n",
       "      <td>-0.022132</td>\n",
       "      <td>0.144093</td>\n",
       "      <td>-0.063875</td>\n",
       "      <td>0.047605</td>\n",
       "    </tr>\n",
       "    <tr>\n",
       "      <th>Lable_OpSys</th>\n",
       "      <td>0.140182</td>\n",
       "      <td>0.081054</td>\n",
       "      <td>-0.090317</td>\n",
       "      <td>1.000000</td>\n",
       "      <td>0.008420</td>\n",
       "      <td>0.126500</td>\n",
       "      <td>0.020497</td>\n",
       "      <td>0.062854</td>\n",
       "    </tr>\n",
       "    <tr>\n",
       "      <th>Weight</th>\n",
       "      <td>-0.121868</td>\n",
       "      <td>-0.207945</td>\n",
       "      <td>-0.022132</td>\n",
       "      <td>0.008420</td>\n",
       "      <td>1.000000</td>\n",
       "      <td>0.283294</td>\n",
       "      <td>0.494972</td>\n",
       "      <td>-0.557665</td>\n",
       "    </tr>\n",
       "    <tr>\n",
       "      <th>Ram</th>\n",
       "      <td>0.047084</td>\n",
       "      <td>-0.200407</td>\n",
       "      <td>0.144093</td>\n",
       "      <td>0.126500</td>\n",
       "      <td>0.283294</td>\n",
       "      <td>1.000000</td>\n",
       "      <td>0.142125</td>\n",
       "      <td>-0.072257</td>\n",
       "    </tr>\n",
       "    <tr>\n",
       "      <th>Inches</th>\n",
       "      <td>-0.043164</td>\n",
       "      <td>-0.060210</td>\n",
       "      <td>-0.063875</td>\n",
       "      <td>0.020497</td>\n",
       "      <td>0.494972</td>\n",
       "      <td>0.142125</td>\n",
       "      <td>1.000000</td>\n",
       "      <td>-0.556249</td>\n",
       "    </tr>\n",
       "    <tr>\n",
       "      <th>Lable_Inches</th>\n",
       "      <td>0.143253</td>\n",
       "      <td>0.054227</td>\n",
       "      <td>0.047605</td>\n",
       "      <td>0.062854</td>\n",
       "      <td>-0.557665</td>\n",
       "      <td>-0.072257</td>\n",
       "      <td>-0.556249</td>\n",
       "      <td>1.000000</td>\n",
       "    </tr>\n",
       "  </tbody>\n",
       "</table>\n",
       "</div>"
      ],
      "text/plain": [
       "                Lable_Company  Lable_TypeName  Lable_Cpu_type  Lable_OpSys  \\\n",
       "Lable_Company        1.000000       -0.006335       -0.020617     0.140182   \n",
       "Lable_TypeName      -0.006335        1.000000       -0.089878     0.081054   \n",
       "Lable_Cpu_type      -0.020617       -0.089878        1.000000    -0.090317   \n",
       "Lable_OpSys          0.140182        0.081054       -0.090317     1.000000   \n",
       "Weight              -0.121868       -0.207945       -0.022132     0.008420   \n",
       "Ram                  0.047084       -0.200407        0.144093     0.126500   \n",
       "Inches              -0.043164       -0.060210       -0.063875     0.020497   \n",
       "Lable_Inches         0.143253        0.054227        0.047605     0.062854   \n",
       "\n",
       "                  Weight       Ram    Inches  Lable_Inches  \n",
       "Lable_Company  -0.121868  0.047084 -0.043164      0.143253  \n",
       "Lable_TypeName -0.207945 -0.200407 -0.060210      0.054227  \n",
       "Lable_Cpu_type -0.022132  0.144093 -0.063875      0.047605  \n",
       "Lable_OpSys     0.008420  0.126500  0.020497      0.062854  \n",
       "Weight          1.000000  0.283294  0.494972     -0.557665  \n",
       "Ram             0.283294  1.000000  0.142125     -0.072257  \n",
       "Inches          0.494972  0.142125  1.000000     -0.556249  \n",
       "Lable_Inches   -0.557665 -0.072257 -0.556249      1.000000  "
      ]
     },
     "execution_count": 32,
     "metadata": {},
     "output_type": "execute_result"
    }
   ],
   "source": [
    "x.corr()"
   ]
  },
  {
   "cell_type": "code",
   "execution_count": 37,
   "metadata": {},
   "outputs": [],
   "source": [
    "# split the data into X_train,X_test,Y_train,Y_test\n",
    "X_train,X_test,Y_train,Y_test = train_test_split(x,y,train_size=0.25)"
   ]
  },
  {
   "cell_type": "code",
   "execution_count": 40,
   "metadata": {},
   "outputs": [],
   "source": [
    "# craete three model to see the diffrence score or accurate model between three model:\n",
    "# 1- Linear Regression Model \n",
    "# 2- Decision Tree Regressor Model\n",
    "# 3- SVR (stand for Spport vactor machine regression)\n",
    "Model_DT_v1 = DecisionTreeRegressor(criterion=\"squared_error\",splitter=\"best\",max_features=\"sqrt\")\n",
    "Model_SVR_v1 = SVR(kernel=\"linear\",degree=1,gamma=\"scale\")"
   ]
  },
  {
   "cell_type": "code",
   "execution_count": 41,
   "metadata": {},
   "outputs": [],
   "source": [
    "Model_LR_v2 = LinearRegression(fit_intercept=True,positive=True)\n",
    "Model_DT_v2 = DecisionTreeRegressor(criterion=\"absolute_error\",splitter=\"random\",max_features=\"log2\")\n",
    "Model_SVR_v2 = SVR(kernel=\"poly\",degree=2,gamma=\"auto\")"
   ]
  },
  {
   "cell_type": "code",
   "execution_count": 42,
   "metadata": {},
   "outputs": [],
   "source": [
    "Model_LR_v3 = LinearRegression(fit_intercept=False,positive=False)\n",
    "Model_DT_v3 = DecisionTreeRegressor(criterion=\"poisson\",splitter=\"best\",max_features=\"sqrt\")\n",
    "Model_SVR_v3 = SVR(kernel=\"rbf\",degree=3,gamma=\"auto\")"
   ]
  },
  {
   "cell_type": "code",
   "execution_count": 43,
   "metadata": {},
   "outputs": [
    {
     "data": {
      "text/html": [
       "<style>#sk-container-id-1 {color: black;background-color: white;}#sk-container-id-1 pre{padding: 0;}#sk-container-id-1 div.sk-toggleable {background-color: white;}#sk-container-id-1 label.sk-toggleable__label {cursor: pointer;display: block;width: 100%;margin-bottom: 0;padding: 0.3em;box-sizing: border-box;text-align: center;}#sk-container-id-1 label.sk-toggleable__label-arrow:before {content: \"▸\";float: left;margin-right: 0.25em;color: #696969;}#sk-container-id-1 label.sk-toggleable__label-arrow:hover:before {color: black;}#sk-container-id-1 div.sk-estimator:hover label.sk-toggleable__label-arrow:before {color: black;}#sk-container-id-1 div.sk-toggleable__content {max-height: 0;max-width: 0;overflow: hidden;text-align: left;background-color: #f0f8ff;}#sk-container-id-1 div.sk-toggleable__content pre {margin: 0.2em;color: black;border-radius: 0.25em;background-color: #f0f8ff;}#sk-container-id-1 input.sk-toggleable__control:checked~div.sk-toggleable__content {max-height: 200px;max-width: 100%;overflow: auto;}#sk-container-id-1 input.sk-toggleable__control:checked~label.sk-toggleable__label-arrow:before {content: \"▾\";}#sk-container-id-1 div.sk-estimator input.sk-toggleable__control:checked~label.sk-toggleable__label {background-color: #d4ebff;}#sk-container-id-1 div.sk-label input.sk-toggleable__control:checked~label.sk-toggleable__label {background-color: #d4ebff;}#sk-container-id-1 input.sk-hidden--visually {border: 0;clip: rect(1px 1px 1px 1px);clip: rect(1px, 1px, 1px, 1px);height: 1px;margin: -1px;overflow: hidden;padding: 0;position: absolute;width: 1px;}#sk-container-id-1 div.sk-estimator {font-family: monospace;background-color: #f0f8ff;border: 1px dotted black;border-radius: 0.25em;box-sizing: border-box;margin-bottom: 0.5em;}#sk-container-id-1 div.sk-estimator:hover {background-color: #d4ebff;}#sk-container-id-1 div.sk-parallel-item::after {content: \"\";width: 100%;border-bottom: 1px solid gray;flex-grow: 1;}#sk-container-id-1 div.sk-label:hover label.sk-toggleable__label {background-color: #d4ebff;}#sk-container-id-1 div.sk-serial::before {content: \"\";position: absolute;border-left: 1px solid gray;box-sizing: border-box;top: 0;bottom: 0;left: 50%;z-index: 0;}#sk-container-id-1 div.sk-serial {display: flex;flex-direction: column;align-items: center;background-color: white;padding-right: 0.2em;padding-left: 0.2em;position: relative;}#sk-container-id-1 div.sk-item {position: relative;z-index: 1;}#sk-container-id-1 div.sk-parallel {display: flex;align-items: stretch;justify-content: center;background-color: white;position: relative;}#sk-container-id-1 div.sk-item::before, #sk-container-id-1 div.sk-parallel-item::before {content: \"\";position: absolute;border-left: 1px solid gray;box-sizing: border-box;top: 0;bottom: 0;left: 50%;z-index: -1;}#sk-container-id-1 div.sk-parallel-item {display: flex;flex-direction: column;z-index: 1;position: relative;background-color: white;}#sk-container-id-1 div.sk-parallel-item:first-child::after {align-self: flex-end;width: 50%;}#sk-container-id-1 div.sk-parallel-item:last-child::after {align-self: flex-start;width: 50%;}#sk-container-id-1 div.sk-parallel-item:only-child::after {width: 0;}#sk-container-id-1 div.sk-dashed-wrapped {border: 1px dashed gray;margin: 0 0.4em 0.5em 0.4em;box-sizing: border-box;padding-bottom: 0.4em;background-color: white;}#sk-container-id-1 div.sk-label label {font-family: monospace;font-weight: bold;display: inline-block;line-height: 1.2em;}#sk-container-id-1 div.sk-label-container {text-align: center;}#sk-container-id-1 div.sk-container {/* jupyter's `normalize.less` sets `[hidden] { display: none; }` but bootstrap.min.css set `[hidden] { display: none !important; }` so we also need the `!important` here to be able to override the default hidden behavior on the sphinx rendered scikit-learn.org. See: https://github.com/scikit-learn/scikit-learn/issues/21755 */display: inline-block !important;position: relative;}#sk-container-id-1 div.sk-text-repr-fallback {display: none;}</style><div id=\"sk-container-id-1\" class=\"sk-top-container\"><div class=\"sk-text-repr-fallback\"><pre>LinearRegression(fit_intercept=False)</pre><b>In a Jupyter environment, please rerun this cell to show the HTML representation or trust the notebook. <br />On GitHub, the HTML representation is unable to render, please try loading this page with nbviewer.org.</b></div><div class=\"sk-container\" hidden><div class=\"sk-item\"><div class=\"sk-estimator sk-toggleable\"><input class=\"sk-toggleable__control sk-hidden--visually\" id=\"sk-estimator-id-1\" type=\"checkbox\" checked><label for=\"sk-estimator-id-1\" class=\"sk-toggleable__label sk-toggleable__label-arrow\">LinearRegression</label><div class=\"sk-toggleable__content\"><pre>LinearRegression(fit_intercept=False)</pre></div></div></div></div></div>"
      ],
      "text/plain": [
       "LinearRegression(fit_intercept=False)"
      ]
     },
     "execution_count": 43,
     "metadata": {},
     "output_type": "execute_result"
    }
   ],
   "source": [
    "# fit Linear Regression Model\n",
    "Model_LR_v2.fit(X_train,Y_train)\n",
    "Model_LR_v3.fit(X_train,Y_train)"
   ]
  },
  {
   "cell_type": "code",
   "execution_count": 44,
   "metadata": {},
   "outputs": [
    {
     "data": {
      "text/html": [
       "<style>#sk-container-id-2 {color: black;background-color: white;}#sk-container-id-2 pre{padding: 0;}#sk-container-id-2 div.sk-toggleable {background-color: white;}#sk-container-id-2 label.sk-toggleable__label {cursor: pointer;display: block;width: 100%;margin-bottom: 0;padding: 0.3em;box-sizing: border-box;text-align: center;}#sk-container-id-2 label.sk-toggleable__label-arrow:before {content: \"▸\";float: left;margin-right: 0.25em;color: #696969;}#sk-container-id-2 label.sk-toggleable__label-arrow:hover:before {color: black;}#sk-container-id-2 div.sk-estimator:hover label.sk-toggleable__label-arrow:before {color: black;}#sk-container-id-2 div.sk-toggleable__content {max-height: 0;max-width: 0;overflow: hidden;text-align: left;background-color: #f0f8ff;}#sk-container-id-2 div.sk-toggleable__content pre {margin: 0.2em;color: black;border-radius: 0.25em;background-color: #f0f8ff;}#sk-container-id-2 input.sk-toggleable__control:checked~div.sk-toggleable__content {max-height: 200px;max-width: 100%;overflow: auto;}#sk-container-id-2 input.sk-toggleable__control:checked~label.sk-toggleable__label-arrow:before {content: \"▾\";}#sk-container-id-2 div.sk-estimator input.sk-toggleable__control:checked~label.sk-toggleable__label {background-color: #d4ebff;}#sk-container-id-2 div.sk-label input.sk-toggleable__control:checked~label.sk-toggleable__label {background-color: #d4ebff;}#sk-container-id-2 input.sk-hidden--visually {border: 0;clip: rect(1px 1px 1px 1px);clip: rect(1px, 1px, 1px, 1px);height: 1px;margin: -1px;overflow: hidden;padding: 0;position: absolute;width: 1px;}#sk-container-id-2 div.sk-estimator {font-family: monospace;background-color: #f0f8ff;border: 1px dotted black;border-radius: 0.25em;box-sizing: border-box;margin-bottom: 0.5em;}#sk-container-id-2 div.sk-estimator:hover {background-color: #d4ebff;}#sk-container-id-2 div.sk-parallel-item::after {content: \"\";width: 100%;border-bottom: 1px solid gray;flex-grow: 1;}#sk-container-id-2 div.sk-label:hover label.sk-toggleable__label {background-color: #d4ebff;}#sk-container-id-2 div.sk-serial::before {content: \"\";position: absolute;border-left: 1px solid gray;box-sizing: border-box;top: 0;bottom: 0;left: 50%;z-index: 0;}#sk-container-id-2 div.sk-serial {display: flex;flex-direction: column;align-items: center;background-color: white;padding-right: 0.2em;padding-left: 0.2em;position: relative;}#sk-container-id-2 div.sk-item {position: relative;z-index: 1;}#sk-container-id-2 div.sk-parallel {display: flex;align-items: stretch;justify-content: center;background-color: white;position: relative;}#sk-container-id-2 div.sk-item::before, #sk-container-id-2 div.sk-parallel-item::before {content: \"\";position: absolute;border-left: 1px solid gray;box-sizing: border-box;top: 0;bottom: 0;left: 50%;z-index: -1;}#sk-container-id-2 div.sk-parallel-item {display: flex;flex-direction: column;z-index: 1;position: relative;background-color: white;}#sk-container-id-2 div.sk-parallel-item:first-child::after {align-self: flex-end;width: 50%;}#sk-container-id-2 div.sk-parallel-item:last-child::after {align-self: flex-start;width: 50%;}#sk-container-id-2 div.sk-parallel-item:only-child::after {width: 0;}#sk-container-id-2 div.sk-dashed-wrapped {border: 1px dashed gray;margin: 0 0.4em 0.5em 0.4em;box-sizing: border-box;padding-bottom: 0.4em;background-color: white;}#sk-container-id-2 div.sk-label label {font-family: monospace;font-weight: bold;display: inline-block;line-height: 1.2em;}#sk-container-id-2 div.sk-label-container {text-align: center;}#sk-container-id-2 div.sk-container {/* jupyter's `normalize.less` sets `[hidden] { display: none; }` but bootstrap.min.css set `[hidden] { display: none !important; }` so we also need the `!important` here to be able to override the default hidden behavior on the sphinx rendered scikit-learn.org. See: https://github.com/scikit-learn/scikit-learn/issues/21755 */display: inline-block !important;position: relative;}#sk-container-id-2 div.sk-text-repr-fallback {display: none;}</style><div id=\"sk-container-id-2\" class=\"sk-top-container\"><div class=\"sk-text-repr-fallback\"><pre>DecisionTreeRegressor(criterion=&#x27;poisson&#x27;, max_features=&#x27;sqrt&#x27;)</pre><b>In a Jupyter environment, please rerun this cell to show the HTML representation or trust the notebook. <br />On GitHub, the HTML representation is unable to render, please try loading this page with nbviewer.org.</b></div><div class=\"sk-container\" hidden><div class=\"sk-item\"><div class=\"sk-estimator sk-toggleable\"><input class=\"sk-toggleable__control sk-hidden--visually\" id=\"sk-estimator-id-2\" type=\"checkbox\" checked><label for=\"sk-estimator-id-2\" class=\"sk-toggleable__label sk-toggleable__label-arrow\">DecisionTreeRegressor</label><div class=\"sk-toggleable__content\"><pre>DecisionTreeRegressor(criterion=&#x27;poisson&#x27;, max_features=&#x27;sqrt&#x27;)</pre></div></div></div></div></div>"
      ],
      "text/plain": [
       "DecisionTreeRegressor(criterion='poisson', max_features='sqrt')"
      ]
     },
     "execution_count": 44,
     "metadata": {},
     "output_type": "execute_result"
    }
   ],
   "source": [
    "# fit Decision Tree Regressor Model\n",
    "Model_DT_v1.fit(X_train,Y_train)\n",
    "Model_DT_v2.fit(X_train,Y_train)\n",
    "Model_DT_v3.fit(X_train,Y_train)"
   ]
  },
  {
   "cell_type": "code",
   "execution_count": 45,
   "metadata": {},
   "outputs": [
    {
     "data": {
      "text/html": [
       "<style>#sk-container-id-3 {color: black;background-color: white;}#sk-container-id-3 pre{padding: 0;}#sk-container-id-3 div.sk-toggleable {background-color: white;}#sk-container-id-3 label.sk-toggleable__label {cursor: pointer;display: block;width: 100%;margin-bottom: 0;padding: 0.3em;box-sizing: border-box;text-align: center;}#sk-container-id-3 label.sk-toggleable__label-arrow:before {content: \"▸\";float: left;margin-right: 0.25em;color: #696969;}#sk-container-id-3 label.sk-toggleable__label-arrow:hover:before {color: black;}#sk-container-id-3 div.sk-estimator:hover label.sk-toggleable__label-arrow:before {color: black;}#sk-container-id-3 div.sk-toggleable__content {max-height: 0;max-width: 0;overflow: hidden;text-align: left;background-color: #f0f8ff;}#sk-container-id-3 div.sk-toggleable__content pre {margin: 0.2em;color: black;border-radius: 0.25em;background-color: #f0f8ff;}#sk-container-id-3 input.sk-toggleable__control:checked~div.sk-toggleable__content {max-height: 200px;max-width: 100%;overflow: auto;}#sk-container-id-3 input.sk-toggleable__control:checked~label.sk-toggleable__label-arrow:before {content: \"▾\";}#sk-container-id-3 div.sk-estimator input.sk-toggleable__control:checked~label.sk-toggleable__label {background-color: #d4ebff;}#sk-container-id-3 div.sk-label input.sk-toggleable__control:checked~label.sk-toggleable__label {background-color: #d4ebff;}#sk-container-id-3 input.sk-hidden--visually {border: 0;clip: rect(1px 1px 1px 1px);clip: rect(1px, 1px, 1px, 1px);height: 1px;margin: -1px;overflow: hidden;padding: 0;position: absolute;width: 1px;}#sk-container-id-3 div.sk-estimator {font-family: monospace;background-color: #f0f8ff;border: 1px dotted black;border-radius: 0.25em;box-sizing: border-box;margin-bottom: 0.5em;}#sk-container-id-3 div.sk-estimator:hover {background-color: #d4ebff;}#sk-container-id-3 div.sk-parallel-item::after {content: \"\";width: 100%;border-bottom: 1px solid gray;flex-grow: 1;}#sk-container-id-3 div.sk-label:hover label.sk-toggleable__label {background-color: #d4ebff;}#sk-container-id-3 div.sk-serial::before {content: \"\";position: absolute;border-left: 1px solid gray;box-sizing: border-box;top: 0;bottom: 0;left: 50%;z-index: 0;}#sk-container-id-3 div.sk-serial {display: flex;flex-direction: column;align-items: center;background-color: white;padding-right: 0.2em;padding-left: 0.2em;position: relative;}#sk-container-id-3 div.sk-item {position: relative;z-index: 1;}#sk-container-id-3 div.sk-parallel {display: flex;align-items: stretch;justify-content: center;background-color: white;position: relative;}#sk-container-id-3 div.sk-item::before, #sk-container-id-3 div.sk-parallel-item::before {content: \"\";position: absolute;border-left: 1px solid gray;box-sizing: border-box;top: 0;bottom: 0;left: 50%;z-index: -1;}#sk-container-id-3 div.sk-parallel-item {display: flex;flex-direction: column;z-index: 1;position: relative;background-color: white;}#sk-container-id-3 div.sk-parallel-item:first-child::after {align-self: flex-end;width: 50%;}#sk-container-id-3 div.sk-parallel-item:last-child::after {align-self: flex-start;width: 50%;}#sk-container-id-3 div.sk-parallel-item:only-child::after {width: 0;}#sk-container-id-3 div.sk-dashed-wrapped {border: 1px dashed gray;margin: 0 0.4em 0.5em 0.4em;box-sizing: border-box;padding-bottom: 0.4em;background-color: white;}#sk-container-id-3 div.sk-label label {font-family: monospace;font-weight: bold;display: inline-block;line-height: 1.2em;}#sk-container-id-3 div.sk-label-container {text-align: center;}#sk-container-id-3 div.sk-container {/* jupyter's `normalize.less` sets `[hidden] { display: none; }` but bootstrap.min.css set `[hidden] { display: none !important; }` so we also need the `!important` here to be able to override the default hidden behavior on the sphinx rendered scikit-learn.org. See: https://github.com/scikit-learn/scikit-learn/issues/21755 */display: inline-block !important;position: relative;}#sk-container-id-3 div.sk-text-repr-fallback {display: none;}</style><div id=\"sk-container-id-3\" class=\"sk-top-container\"><div class=\"sk-text-repr-fallback\"><pre>SVR(gamma=&#x27;auto&#x27;)</pre><b>In a Jupyter environment, please rerun this cell to show the HTML representation or trust the notebook. <br />On GitHub, the HTML representation is unable to render, please try loading this page with nbviewer.org.</b></div><div class=\"sk-container\" hidden><div class=\"sk-item\"><div class=\"sk-estimator sk-toggleable\"><input class=\"sk-toggleable__control sk-hidden--visually\" id=\"sk-estimator-id-3\" type=\"checkbox\" checked><label for=\"sk-estimator-id-3\" class=\"sk-toggleable__label sk-toggleable__label-arrow\">SVR</label><div class=\"sk-toggleable__content\"><pre>SVR(gamma=&#x27;auto&#x27;)</pre></div></div></div></div></div>"
      ],
      "text/plain": [
       "SVR(gamma='auto')"
      ]
     },
     "execution_count": 45,
     "metadata": {},
     "output_type": "execute_result"
    }
   ],
   "source": [
    "# fit SVR model\n",
    "Model_SVR_v1.fit(X_train,Y_train)\n",
    "Model_SVR_v2.fit(X_train,Y_train)\n",
    "Model_SVR_v3.fit(X_train,Y_train)"
   ]
  },
  {
   "cell_type": "code",
   "execution_count": 46,
   "metadata": {},
   "outputs": [
    {
     "name": "stdout",
     "output_type": "stream",
     "text": [
      "The score of Linear Regression v2 are :  52.4564068173035\n",
      "The score of Decision Tree Regressor v1  :  56.906704103396336\n",
      "The score type of SVR v1 are : 15.289793973986999\n"
     ]
    }
   ],
   "source": [
    "print(\"The score of Linear Regression v2 are : \",Model_LR_v2.score(X_test,Y_test)*100)\n",
    "print(\"The score of Decision Tree Regressor v1  : \",Model_DT_v1.score(X_test,Y_test)*100)\n",
    "print(\"The score type of SVR v1 are :\",Model_SVR_v1.score(X_test,Y_test)*100)"
   ]
  },
  {
   "cell_type": "code",
   "execution_count": 47,
   "metadata": {},
   "outputs": [
    {
     "name": "stdout",
     "output_type": "stream",
     "text": [
      "The score of Linear Regression v3 are :  52.79915180128333\n",
      "The score of Decision Tree Regressor v2  :  45.56850102138118\n",
      "The score type of SVR v2 are : 41.49540462693436\n"
     ]
    }
   ],
   "source": [
    "print(\"The score of Linear Regression v3 are : \",Model_LR_v3.score(X_test,Y_test)*100)\n",
    "print(\"The score of Decision Tree Regressor v2  : \",Model_DT_v2.score(X_test,Y_test)*100)\n",
    "print(\"The score type of SVR v2 are :\",Model_SVR_v2.score(X_test,Y_test)*100)"
   ]
  },
  {
   "cell_type": "code",
   "execution_count": 48,
   "metadata": {},
   "outputs": [
    {
     "name": "stdout",
     "output_type": "stream",
     "text": [
      "The score of Linear Regression v3 are :  52.79915180128333\n",
      "The score of Decision Tree Regressor v3  :  45.56850102138118\n",
      "The score type of SVR v3 are : -0.25304622787696296\n"
     ]
    }
   ],
   "source": [
    "print(\"The score of Linear Regression v3 are : \",Model_LR_v3.score(X_test,Y_test)*100)\n",
    "print(\"The score of Decision Tree Regressor v3  : \",Model_DT_v2.score(X_test,Y_test)*100)\n",
    "print(\"The score type of SVR v3 are :\",Model_SVR_v3.score(X_test,Y_test)*100)"
   ]
  }
 ],
 "metadata": {
  "kernelspec": {
   "display_name": "Python 3",
   "language": "python",
   "name": "python3"
  },
  "language_info": {
   "codemirror_mode": {
    "name": "ipython",
    "version": 3
   },
   "file_extension": ".py",
   "mimetype": "text/x-python",
   "name": "python",
   "nbconvert_exporter": "python",
   "pygments_lexer": "ipython3",
   "version": "3.10.5"
  },
  "orig_nbformat": 4
 },
 "nbformat": 4,
 "nbformat_minor": 2
}
