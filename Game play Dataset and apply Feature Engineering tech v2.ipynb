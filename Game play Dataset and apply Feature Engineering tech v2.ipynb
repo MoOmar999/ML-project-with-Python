{
 "cells": [
  {
   "cell_type": "code",
   "execution_count": 1,
   "metadata": {},
   "outputs": [],
   "source": [
    "#Hi everyone today we are doing feature engineering project to apply some of feature engineering tech such as \n",
    "#1- Missing Value Imputation\n",
    "#2- Encoding categorical columuns\n",
    "#3- Finding the outlier values\n",
    "#4- Standarzation values"
   ]
  },
  {
   "cell_type": "code",
   "execution_count": 2,
   "metadata": {},
   "outputs": [],
   "source": [
    "# import the libraries\n",
    "import pandas as pd\n",
    "import numpy as np"
   ]
  },
  {
   "cell_type": "code",
   "execution_count": 3,
   "metadata": {},
   "outputs": [],
   "source": [
    "# read the data using read_csv fun\n",
    "Data = pd.read_csv(\"c:/Users/nxt-1/Downloads/Video Games Sales.csv\")"
   ]
  },
  {
   "cell_type": "code",
   "execution_count": 4,
   "metadata": {},
   "outputs": [],
   "source": [
    "# this fun are to display the max number of rows and columns and it is imprtant data to view the full data\n",
    "# note: do not using this fun to diplay the fully data like example. code (data) then run. this will take high amount of cpu and ram\n",
    "pd.set_option('display.max_columns', None)\n",
    "pd.set_option('display.max_rows', None)"
   ]
  },
  {
   "cell_type": "code",
   "execution_count": 5,
   "metadata": {},
   "outputs": [
    {
     "data": {
      "text/html": [
       "<div>\n",
       "<style scoped>\n",
       "    .dataframe tbody tr th:only-of-type {\n",
       "        vertical-align: middle;\n",
       "    }\n",
       "\n",
       "    .dataframe tbody tr th {\n",
       "        vertical-align: top;\n",
       "    }\n",
       "\n",
       "    .dataframe thead th {\n",
       "        text-align: right;\n",
       "    }\n",
       "</style>\n",
       "<table border=\"1\" class=\"dataframe\">\n",
       "  <thead>\n",
       "    <tr style=\"text-align: right;\">\n",
       "      <th></th>\n",
       "      <th>index</th>\n",
       "      <th>Rank</th>\n",
       "      <th>Game Title</th>\n",
       "      <th>Platform</th>\n",
       "      <th>Year</th>\n",
       "      <th>Genre</th>\n",
       "      <th>Publisher</th>\n",
       "      <th>North America</th>\n",
       "      <th>Europe</th>\n",
       "      <th>Japan</th>\n",
       "      <th>Rest of World</th>\n",
       "      <th>Global</th>\n",
       "      <th>Review</th>\n",
       "    </tr>\n",
       "  </thead>\n",
       "  <tbody>\n",
       "    <tr>\n",
       "      <th>0</th>\n",
       "      <td>0</td>\n",
       "      <td>1</td>\n",
       "      <td>Wii Sports</td>\n",
       "      <td>Wii</td>\n",
       "      <td>2006.0</td>\n",
       "      <td>Sports</td>\n",
       "      <td>Nintendo</td>\n",
       "      <td>40.43</td>\n",
       "      <td>28.39</td>\n",
       "      <td>3.77</td>\n",
       "      <td>8.54</td>\n",
       "      <td>81.12</td>\n",
       "      <td>76.28</td>\n",
       "    </tr>\n",
       "    <tr>\n",
       "      <th>1</th>\n",
       "      <td>1</td>\n",
       "      <td>2</td>\n",
       "      <td>Super Mario Bros.</td>\n",
       "      <td>NES</td>\n",
       "      <td>1985.0</td>\n",
       "      <td>Platform</td>\n",
       "      <td>Nintendo</td>\n",
       "      <td>29.08</td>\n",
       "      <td>3.58</td>\n",
       "      <td>6.81</td>\n",
       "      <td>0.77</td>\n",
       "      <td>40.24</td>\n",
       "      <td>91.00</td>\n",
       "    </tr>\n",
       "    <tr>\n",
       "      <th>2</th>\n",
       "      <td>2</td>\n",
       "      <td>3</td>\n",
       "      <td>Mario Kart Wii</td>\n",
       "      <td>Wii</td>\n",
       "      <td>2008.0</td>\n",
       "      <td>Racing</td>\n",
       "      <td>Nintendo</td>\n",
       "      <td>14.50</td>\n",
       "      <td>12.22</td>\n",
       "      <td>3.63</td>\n",
       "      <td>3.21</td>\n",
       "      <td>33.55</td>\n",
       "      <td>82.07</td>\n",
       "    </tr>\n",
       "    <tr>\n",
       "      <th>3</th>\n",
       "      <td>3</td>\n",
       "      <td>4</td>\n",
       "      <td>Wii Sports Resort</td>\n",
       "      <td>Wii</td>\n",
       "      <td>2009.0</td>\n",
       "      <td>Sports</td>\n",
       "      <td>Nintendo</td>\n",
       "      <td>14.82</td>\n",
       "      <td>10.51</td>\n",
       "      <td>3.18</td>\n",
       "      <td>3.01</td>\n",
       "      <td>31.52</td>\n",
       "      <td>82.65</td>\n",
       "    </tr>\n",
       "    <tr>\n",
       "      <th>4</th>\n",
       "      <td>4</td>\n",
       "      <td>5</td>\n",
       "      <td>Tetris</td>\n",
       "      <td>GB</td>\n",
       "      <td>1989.0</td>\n",
       "      <td>Puzzle</td>\n",
       "      <td>Nintendo</td>\n",
       "      <td>23.20</td>\n",
       "      <td>2.26</td>\n",
       "      <td>4.22</td>\n",
       "      <td>0.58</td>\n",
       "      <td>30.26</td>\n",
       "      <td>88.00</td>\n",
       "    </tr>\n",
       "  </tbody>\n",
       "</table>\n",
       "</div>"
      ],
      "text/plain": [
       "   index  Rank         Game Title Platform    Year     Genre Publisher  \\\n",
       "0      0     1         Wii Sports      Wii  2006.0    Sports  Nintendo   \n",
       "1      1     2  Super Mario Bros.      NES  1985.0  Platform  Nintendo   \n",
       "2      2     3     Mario Kart Wii      Wii  2008.0    Racing  Nintendo   \n",
       "3      3     4  Wii Sports Resort      Wii  2009.0    Sports  Nintendo   \n",
       "4      4     5             Tetris       GB  1989.0    Puzzle  Nintendo   \n",
       "\n",
       "   North America  Europe  Japan  Rest of World  Global  Review  \n",
       "0          40.43   28.39   3.77           8.54   81.12   76.28  \n",
       "1          29.08    3.58   6.81           0.77   40.24   91.00  \n",
       "2          14.50   12.22   3.63           3.21   33.55   82.07  \n",
       "3          14.82   10.51   3.18           3.01   31.52   82.65  \n",
       "4          23.20    2.26   4.22           0.58   30.26   88.00  "
      ]
     },
     "execution_count": 5,
     "metadata": {},
     "output_type": "execute_result"
    }
   ],
   "source": [
    "# display the data\n",
    "Data.head()"
   ]
  },
  {
   "cell_type": "code",
   "execution_count": 6,
   "metadata": {},
   "outputs": [
    {
     "data": {
      "text/plain": [
       "array([2006., 1985., 2008., 2009., 1989., 1984., 2005., 1999., 2007.,\n",
       "       2004., 1990., 2010., 1988., 2002., 2001., 2011., 1998., 1996.,\n",
       "       2012., 2000., 1992., 1997., 1993., 1994., 2003., 1986.,   nan,\n",
       "       1995., 1991., 1987., 1983.])"
      ]
     },
     "execution_count": 6,
     "metadata": {},
     "output_type": "execute_result"
    }
   ],
   "source": [
    "Data[\"Year\"].unique()"
   ]
  },
  {
   "cell_type": "code",
   "execution_count": 7,
   "metadata": {},
   "outputs": [
    {
     "data": {
      "text/plain": [
       "Genre\n",
       "Sports          308\n",
       "Action          275\n",
       "Shooter         206\n",
       "Platform        188\n",
       "Racing          186\n",
       "Role-Playing    173\n",
       "Misc            159\n",
       "Fighting        126\n",
       "Adventure       110\n",
       "Simulation       92\n",
       "Puzzle           44\n",
       "Strategy         40\n",
       "Name: count, dtype: int64"
      ]
     },
     "execution_count": 7,
     "metadata": {},
     "output_type": "execute_result"
    }
   ],
   "source": [
    "# using some EDA to represent the sports genrs have the highiest value games dataset\n",
    "Data[\"Genre\"].value_counts()"
   ]
  },
  {
   "cell_type": "code",
   "execution_count": 8,
   "metadata": {},
   "outputs": [
    {
     "name": "stdout",
     "output_type": "stream",
     "text": [
      "the column name : Year have null value by percent:  1.5207131620346093\n",
      "the column name : Publisher have null value by percent:  0.1048767697954903\n",
      "the column name : index have null value by percent:  0.0\n",
      "the column name : Rank have null value by percent:  0.0\n",
      "the column name : Game Title have null value by percent:  0.0\n",
      "the column name : Platform have null value by percent:  0.0\n",
      "the column name : Genre have null value by percent:  0.0\n",
      "the column name : North America have null value by percent:  0.0\n",
      "the column name : Europe have null value by percent:  0.0\n",
      "the column name : Japan have null value by percent:  0.0\n",
      "the column name : Rest of World have null value by percent:  0.0\n",
      "the column name : Global have null value by percent:  0.0\n",
      "the column name : Review have null value by percent:  0.0\n"
     ]
    }
   ],
   "source": [
    "# 1- Missing Value Imputation\n",
    "# check if there any null value by column name and percent for each column:\n",
    "for i in range(len(Data.isnull().sum().sort_values(ascending=False).index)):\n",
    "    print(\"the column name :\",Data.isnull().sum().sort_values(ascending=False).index[i],\"have null value by percent: \",\n",
    "    Data.isnull().sum().sort_values(ascending=False).astype(\"int\").values[i]/len(Data) * 100)\n",
    "# so we have two columns have null value the \"Year\" and \"Publisher\" columns. how will to deal with?\n",
    "# for the \"Year\" column we will take the mean value or the AVG and for \"Publisher\" column we will take the most frequents value or the mode         "
   ]
  },
  {
   "cell_type": "code",
   "execution_count": 9,
   "metadata": {},
   "outputs": [],
   "source": [
    "# 1- \"Year\" column\n",
    "Data[\"Year\"].fillna(Data[\"Year\"].mean(),inplace=True)\n",
    "# 2- \"Publisher\" column\n",
    "Data[\"Publisher\"].fillna(Data[\"Publisher\"].value_counts().idxmax(),inplace=True)"
   ]
  },
  {
   "cell_type": "code",
   "execution_count": 10,
   "metadata": {},
   "outputs": [
    {
     "data": {
      "text/plain": [
       "index            0\n",
       "Rank             0\n",
       "Game Title       0\n",
       "Platform         0\n",
       "Year             0\n",
       "Genre            0\n",
       "Publisher        0\n",
       "North America    0\n",
       "Europe           0\n",
       "Japan            0\n",
       "Rest of World    0\n",
       "Global           0\n",
       "Review           0\n",
       "dtype: int64"
      ]
     },
     "execution_count": 10,
     "metadata": {},
     "output_type": "execute_result"
    }
   ],
   "source": [
    "#check where if there any null value after apply fillna fun\n",
    "Data.isnull().sum()"
   ]
  },
  {
   "cell_type": "code",
   "execution_count": 12,
   "metadata": {},
   "outputs": [],
   "source": [
    "#2- Encoding categorical columun\n",
    "# first we are tring to import LabelEncoder libarary\n",
    "# then select the category columns to convert into num columns\n",
    "from sklearn.preprocessing import LabelEncoder\n",
    "lb = LabelEncoder()"
   ]
  },
  {
   "cell_type": "code",
   "execution_count": 13,
   "metadata": {},
   "outputs": [],
   "source": [
    "# transform each categorical columns into numrical columns using LabelEncoder and fit_transform fun\n",
    "Data[\"Game Title_label\"] = lb.fit_transform(Data[\"Game Title\"])\n",
    "Data[\"Platform_label\"] = lb.fit_transform(Data[\"Platform\"])\n",
    "Data[\"Genre_label\"] = lb.fit_transform(Data[\"Genre\"])\n",
    "Data[\"Publisher_label\"] = lb.fit_transform(Data[\"Publisher\"])"
   ]
  },
  {
   "cell_type": "code",
   "execution_count": 14,
   "metadata": {},
   "outputs": [
    {
     "data": {
      "image/png": "[encoded data removed]",
      "text/plain": [
       "<Figure size 640x480 with 1 Axes>"
      ]
     },
     "metadata": {},
     "output_type": "display_data"
    }
   ],
   "source": [
    "#3- Finding the outlier values. we will use viz tech method to determan if there any outlier value fro each columns in the dataset\n",
    "# first import the viz libabry such as matplotlib then using fun boxplot to viz the data.\n",
    "import matplotlib.pyplot as plt\n",
    "plt.boxplot(Data[\"Global\"])\n",
    "plt.show()\n",
    "# after seeing the column Global. i see the highiest value 81. and neariest value from 81 are 44. so i Think 81 are outlier value, so we should drop it.\n",
    "Data.drop(index= Data[Data[\"Global\"] >= 81].index,inplace=True)"
   ]
  },
  {
   "cell_type": "code",
   "execution_count": 15,
   "metadata": {},
   "outputs": [],
   "source": [
    "#4- Standarzation value\n",
    "# here we trying to scaling the range for the dataset using StandardScaler libarary\n",
    "from sklearn.preprocessing import StandardScaler\n",
    "Scale = StandardScaler() "
   ]
  },
  {
   "cell_type": "code",
   "execution_count": 16,
   "metadata": {},
   "outputs": [],
   "source": [
    "# extracting the nassary columns to put on the preprocessing fun \n",
    "new_col = [\"Game Title_label\",\"Platform_label\",\"Genre_label\",\"Publisher_label\",\"Year\",\"North America\",\"Europe\",\"Japan\",\"Rest of World\",\"Global\",\"Review\"]\n",
    "new_data = Data[new_col]"
   ]
  },
  {
   "cell_type": "code",
   "execution_count": 18,
   "metadata": {},
   "outputs": [
    {
     "name": "stderr",
     "output_type": "stream",
     "text": [
      "C:\\Users\\nxt-1\\AppData\\Local\\Temp\\ipykernel_15868\\3853400178.py:1: SettingWithCopyWarning: \n",
      "A value is trying to be set on a copy of a slice from a DataFrame.\n",
      "Try using .loc[row_indexer,col_indexer] = value instead\n",
      "\n",
      "See the caveats in the documentation: https://pandas.pydata.org/pandas-docs/stable/user_guide/indexing.html#returning-a-view-versus-a-copy\n",
      "  new_data[\"Year\"] = new_data[\"Year\"].astype(\"int16\")\n"
     ]
    }
   ],
   "source": [
    "# converting the year column for object to int\n",
    "new_data[\"Year\"] = new_data[\"Year\"].astype(\"int16\")"
   ]
  },
  {
   "cell_type": "code",
   "execution_count": 19,
   "metadata": {},
   "outputs": [],
   "source": [
    "# fit and transform tech to preprocssing the dataset.\n",
    "new_data_after_preprocssing = Scale.fit_transform(new_data)"
   ]
  }
 ],
 "metadata": {
  "kernelspec": {
   "display_name": "Python 3",
   "language": "python",
   "name": "python3"
  },
  "language_info": {
   "codemirror_mode": {
    "name": "ipython",
    "version": 3
   },
   "file_extension": ".py",
   "mimetype": "text/x-python",
   "name": "python",
   "nbconvert_exporter": "python",
   "pygments_lexer": "ipython3",
   "version": "3.12.1"
  }
 },
 "nbformat": 4,
 "nbformat_minor": 2
}
